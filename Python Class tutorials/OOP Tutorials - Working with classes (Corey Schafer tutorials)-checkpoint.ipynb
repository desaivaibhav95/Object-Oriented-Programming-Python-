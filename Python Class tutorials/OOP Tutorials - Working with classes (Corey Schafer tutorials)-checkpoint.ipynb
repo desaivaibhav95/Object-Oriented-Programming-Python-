{
 "cells": [
  {
   "cell_type": "markdown",
   "metadata": {},
   "source": [
    "The following notebook lays a foundation for learning Object Oriented Programming in Python. Codes and examples have been taken from all the videos of Corey Schafer's youtube series on OOP and have been condensed in a single notebook for quick reference!\n",
    "Check out the amazing tutorial series here : https://youtube.com/playlist?list=PL-osiE80TeTsqhIuOqKhwlXsIBIdSeYtc"
   ]
  },
  {
   "cell_type": "markdown",
   "metadata": {},
   "source": [
    "# Tutorial 1 : Classes and Instances"
   ]
  },
  {
   "cell_type": "code",
   "execution_count": 1,
   "metadata": {},
   "outputs": [
    {
     "name": "stdout",
     "output_type": "stream",
     "text": [
      "<__main__.Employee object at 0x000001760C483FD0>\n",
      "<__main__.Employee object at 0x000001760C483940>\n"
     ]
    }
   ],
   "source": [
    "class Employee:\n",
    "    def __init__(self):\n",
    "        pass\n",
    "\n",
    "emp_1 = Employee()\n",
    "emp_2 = Employee()\n",
    "\n",
    "print(emp_1)\n",
    "print(emp_2)"
   ]
  },
  {
   "cell_type": "code",
   "execution_count": 2,
   "metadata": {},
   "outputs": [],
   "source": [
    "emp_1.first = 'Vaibhav'\n",
    "emp_1.last = 'Desai'\n",
    "emp_1.email = 'Vaibhav.Desai@company.com'\n",
    "emp_1.pay = 60000\n",
    "\n",
    "emp_2.first = 'Test'\n",
    "emp_2.last = 'User'\n",
    "emp_2.email = 'Test.User@company.com'\n",
    "emp_2.pay = 50000"
   ]
  },
  {
   "cell_type": "code",
   "execution_count": 3,
   "metadata": {},
   "outputs": [
    {
     "name": "stdout",
     "output_type": "stream",
     "text": [
      "Vaibhav.Desai@company.com\n",
      "Test.User@company.com\n"
     ]
    }
   ],
   "source": [
    "print(emp_1.email)\n",
    "print(emp_2.email)"
   ]
  },
  {
   "cell_type": "markdown",
   "metadata": {},
   "source": [
    "The above method is too manual and more prone to human errors."
   ]
  },
  {
   "cell_type": "code",
   "execution_count": 4,
   "metadata": {},
   "outputs": [],
   "source": [
    "class Employee:\n",
    "    def __init__(self, first, last, pay):\n",
    "        self.first = first # instance variable\n",
    "        self.last = last  # instance variable\n",
    "        self.pay = pay  # instance variable\n",
    "        self.email = first+'.'+last+'@company.com' # instance variable (not using self since this variable can be built \n",
    "                                                   # from other instance variables.)\n",
    "      \n",
    "    def fullname(self):\n",
    "        return '{} {}'.format(self.first, self.last)"
   ]
  },
  {
   "cell_type": "code",
   "execution_count": 5,
   "metadata": {},
   "outputs": [],
   "source": [
    "emp_1 = Employee('Vaibhav','Desai',60000) # instance for Employee class\n",
    "emp_2 = Employee('Test','User',50000) # instance for Employee class"
   ]
  },
  {
   "cell_type": "code",
   "execution_count": 6,
   "metadata": {},
   "outputs": [
    {
     "name": "stdout",
     "output_type": "stream",
     "text": [
      "Vaibhav.Desai@company.com\n",
      "Test.User@company.com\n"
     ]
    }
   ],
   "source": [
    "print(emp_1.email)\n",
    "print(emp_2.email)"
   ]
  },
  {
   "cell_type": "code",
   "execution_count": 7,
   "metadata": {},
   "outputs": [
    {
     "name": "stdout",
     "output_type": "stream",
     "text": [
      "Vaibhav Desai\n",
      "Test User\n"
     ]
    }
   ],
   "source": [
    "print(emp_1.fullname())\n",
    "print(emp_2.fullname())"
   ]
  },
  {
   "cell_type": "markdown",
   "metadata": {},
   "source": [
    "When we use the above code what happens in the background is it applies the fullname method on the employee class and passes the instance as the attribute. This is why we put self as the attribute when we define any method in our class."
   ]
  },
  {
   "cell_type": "code",
   "execution_count": 8,
   "metadata": {},
   "outputs": [
    {
     "name": "stdout",
     "output_type": "stream",
     "text": [
      "Vaibhav Desai\n",
      "Test User\n"
     ]
    }
   ],
   "source": [
    "print(Employee.fullname(emp_1))\n",
    "print(Employee.fullname(emp_2))"
   ]
  },
  {
   "cell_type": "markdown",
   "metadata": {},
   "source": [
    "# Tutorial 2: Class Variables"
   ]
  },
  {
   "cell_type": "code",
   "execution_count": 9,
   "metadata": {},
   "outputs": [
    {
     "name": "stdout",
     "output_type": "stream",
     "text": [
      "0\n",
      "2\n"
     ]
    }
   ],
   "source": [
    "class Employee:\n",
    "    \n",
    "    num_of_emps = 0 # class variable (same for all class instances)\n",
    "    raise_amount = 1.04 # class variable (same for all class instances)\n",
    "    \n",
    "    def __init__(self, first, last, pay):\n",
    "        self.first = first # instance variable\n",
    "        self.last = last  # instance variable\n",
    "        self.pay = pay  # instance variable\n",
    "        self.email = first+'.'+last+'@company.com' # instance variable (not using self since this variable can be built \n",
    "                                                   # from other instance variables.)\n",
    "        Employee.num_of_emps += 1\n",
    "        \n",
    "    def fullname(self):\n",
    "        return '{} {}'.format(self.first, self.last)\n",
    "    \n",
    "    def apply_raise(self):\n",
    "        self.pay = int(self.pay * self.raise_amount)\n",
    "        \n",
    "print(Employee.num_of_emps)\n",
    "\n",
    "emp_1 = Employee('Vaibhav','Desai',60000) # instance for Employee class\n",
    "emp_2 = Employee('Test','User',50000) # instance for Employee class\n",
    "\n",
    "print(Employee.num_of_emps)"
   ]
  },
  {
   "cell_type": "code",
   "execution_count": 10,
   "metadata": {},
   "outputs": [
    {
     "name": "stdout",
     "output_type": "stream",
     "text": [
      "1.04\n",
      "1.04\n"
     ]
    }
   ],
   "source": [
    "print(Employee.raise_amount)\n",
    "print(emp_1.raise_amount)"
   ]
  },
  {
   "cell_type": "markdown",
   "metadata": {},
   "source": [
    "# Tutorial 3: classmethods and staticmethods"
   ]
  },
  {
   "cell_type": "markdown",
   "metadata": {},
   "source": [
    "## classmethods"
   ]
  },
  {
   "cell_type": "code",
   "execution_count": 11,
   "metadata": {},
   "outputs": [
    {
     "name": "stdout",
     "output_type": "stream",
     "text": [
      "John.Doe@company.com\n",
      "70000\n"
     ]
    }
   ],
   "source": [
    "class Employee:\n",
    "    \n",
    "    num_of_emps = 0 # class variable (same for all class instances)\n",
    "    raise_amount = 1.04 # class variable (same for all class instances)\n",
    "    \n",
    "    def __init__(self, first, last, pay):\n",
    "        self.first = first # instance variable\n",
    "        self.last = last  # instance variable\n",
    "        self.pay = pay  # instance variable\n",
    "        self.email = first+'.'+last+'@company.com' # instance variable (not using self since this variable can be built \n",
    "                                                   # from other instance variables.)\n",
    "        Employee.num_of_emps += 1\n",
    "        \n",
    "    def fullname(self):\n",
    "        return '{} {}'.format(self.first, self.last)\n",
    "    \n",
    "    def apply_raise(self):\n",
    "        self.pay = int(self.pay * self.raise_amount)\n",
    "            \n",
    "    @classmethod\n",
    "    def set_raise_amount(cls, amount):\n",
    "        cls.raise_amount = amount\n",
    "        \n",
    "    @classmethod\n",
    "    def from_string(cls, emp_str):\n",
    "        first,last,pay = emp_str_1.split('-')\n",
    "        return cls(first, last, pay)\n",
    "\n",
    "emp_1 = Employee('Vaibhav','Desai',60000) # instance for Employee class\n",
    "emp_2 = Employee('Test','User',50000) # instance for Employee class\n",
    "\n",
    "emp_str_1 = 'John-Doe-70000'\n",
    "emp_str_2 = 'Steve-Smith-30000'\n",
    "emp_str_3 = 'Jane-Doe-90000'\n",
    "\n",
    "new_emp_1 = Employee.from_string(emp_str_1)\n",
    "\n",
    "print(new_emp_1.email)\n",
    "print(new_emp_1.pay)"
   ]
  },
  {
   "cell_type": "markdown",
   "metadata": {},
   "source": [
    "## staticmethods"
   ]
  },
  {
   "cell_type": "code",
   "execution_count": 12,
   "metadata": {},
   "outputs": [
    {
     "name": "stdout",
     "output_type": "stream",
     "text": [
      "True\n"
     ]
    }
   ],
   "source": [
    "class Employee:\n",
    "    \n",
    "    num_of_emps = 0 # class variable (same for all class instances)\n",
    "    raise_amount = 1.04 # class variable (same for all class instances)\n",
    "    \n",
    "    def __init__(self, first, last, pay):\n",
    "        self.first = first # instance variable\n",
    "        self.last = last  # instance variable\n",
    "        self.pay = pay  # instance variable\n",
    "        self.email = first+'.'+last+'@company.com' # instance variable (not using self since this variable can be built \n",
    "                                                   # from other instance variables.)\n",
    "        Employee.num_of_emps += 1\n",
    "        \n",
    "    def fullname(self):\n",
    "        return '{} {}'.format(self.first, self.last)\n",
    "    \n",
    "    def apply_raise(self):\n",
    "        self.pay = int(self.pay * self.raise_amount)\n",
    "            \n",
    "    @classmethod\n",
    "    def set_raise_amount(cls, amount):\n",
    "        cls.raise_amount = amount\n",
    "        \n",
    "    @classmethod     # can be used as alternative constructors\n",
    "    def from_string(cls, emp_str):\n",
    "        first,last,pay = emp_str_1.split('-')\n",
    "        return cls(first, last, pay)\n",
    "\n",
    "    @staticmethod       # do not operate on the instance or the class\n",
    "    def is_workday(day):\n",
    "        if day.weekday() == 5 or day.weekday() == 6:\n",
    "            return False\n",
    "        return True\n",
    "    \n",
    "emp_1 = Employee('Vaibhav','Desai',60000) # instance for Employee class\n",
    "emp_2 = Employee('Test','User',50000) # instance for Employee class\n",
    "\n",
    "import datetime\n",
    "my_date = datetime.date(2016,7,11)\n",
    "\n",
    "print(Employee.is_workday(my_date))"
   ]
  },
  {
   "cell_type": "markdown",
   "metadata": {},
   "source": [
    "# Tutorial 4: Inheritance - Creating subclasses"
   ]
  },
  {
   "cell_type": "code",
   "execution_count": 13,
   "metadata": {},
   "outputs": [],
   "source": [
    "class Employee:\n",
    "    \n",
    "    raise_amount = 1.04\n",
    "    \n",
    "    def __init__(self,first,last,pay):\n",
    "        self.first = first\n",
    "        self.last = last\n",
    "        self.email = first + '.' + last + '@email.com'\n",
    "        self.pay = pay\n",
    "        \n",
    "    def fullname(self):\n",
    "        return '{} {}'.format(self.first, self.last)\n",
    "    \n",
    "    def apply_raise(self):\n",
    "        self.pay = int(self.pay * self.raise_amount)\n",
    "\n",
    "class Developer(Employee):\n",
    "    raise_amount = 1.10\n",
    "    \n",
    "    def __init__(self,first,last,pay,prog_lang):\n",
    "        super().__init__(first,last,pay)#letting the employee class handle the first,last and pay instances for the developer class\n",
    "        self.prog_lang = prog_lang\n",
    "        \n",
    "class Manager(Employee):\n",
    "\n",
    "    def __init__(self,first,last,pay,employees = None):\n",
    "        super().__init__(first,last,pay)#letting the employee class handle the first,last and pay instances for the developer class\n",
    "        if employees is None:\n",
    "            self.employees = []\n",
    "        else:\n",
    "            self.employees = employees    \n",
    "\n",
    "    def add_emp(self, emp):\n",
    "        if emp not in self.employees:\n",
    "            self.employees.append(emp)\n",
    "            \n",
    "    def remove_emp(self, emp):\n",
    "        if emp in self.employees:\n",
    "            self.employees.remove(emp)            \n",
    "            \n",
    "    def print_emps(self):\n",
    "        for emp in self.employees:\n",
    "            print('-->', emp.fullname())\n",
    "    \n",
    "dev_1 = Developer('Vaibhav','Desai',60000, 'Python')\n",
    "dev_2 = Developer('Test','User',50000, 'Java')\n",
    "\n",
    "mgr_1 = Manager('Sue','Smith',90000,[dev_1])"
   ]
  },
  {
   "cell_type": "code",
   "execution_count": 14,
   "metadata": {},
   "outputs": [
    {
     "name": "stdout",
     "output_type": "stream",
     "text": [
      "Sue.Smith@email.com\n",
      "--> Test User\n",
      "None\n"
     ]
    }
   ],
   "source": [
    "print(mgr_1.email)\n",
    "mgr_1.add_emp(dev_2)\n",
    "mgr_1.remove_emp(dev_1)\n",
    "print(mgr_1.print_emps())"
   ]
  },
  {
   "cell_type": "code",
   "execution_count": 15,
   "metadata": {},
   "outputs": [
    {
     "name": "stdout",
     "output_type": "stream",
     "text": [
      "Vaibhav.Desai@email.com\n",
      "Python\n"
     ]
    }
   ],
   "source": [
    "print(dev_1.email)\n",
    "print(dev_1.prog_lang)"
   ]
  },
  {
   "cell_type": "code",
   "execution_count": 16,
   "metadata": {},
   "outputs": [
    {
     "name": "stdout",
     "output_type": "stream",
     "text": [
      "60000\n",
      "66000\n"
     ]
    }
   ],
   "source": [
    "print(dev_1.pay)\n",
    "dev_1.apply_raise()\n",
    "print(dev_1.pay)"
   ]
  },
  {
   "cell_type": "code",
   "execution_count": 17,
   "metadata": {},
   "outputs": [
    {
     "name": "stdout",
     "output_type": "stream",
     "text": [
      "True\n",
      "True\n",
      "False\n"
     ]
    }
   ],
   "source": [
    "# isinstance tells us whether an object is a instance of a class/subclass\n",
    "print(isinstance(mgr_1,Manager))\n",
    "print(isinstance(mgr_1,Employee))\n",
    "print(isinstance(mgr_1,Developer))"
   ]
  },
  {
   "cell_type": "code",
   "execution_count": 18,
   "metadata": {},
   "outputs": [
    {
     "name": "stdout",
     "output_type": "stream",
     "text": [
      "True\n",
      "True\n",
      "False\n"
     ]
    }
   ],
   "source": [
    "# issubclass tells us whether a class is a subclass of another class\n",
    "print(issubclass(Developer,Employee))\n",
    "print(issubclass(Manager,Employee))\n",
    "print(issubclass(Developer,Manager))"
   ]
  },
  {
   "cell_type": "markdown",
   "metadata": {},
   "source": [
    "# Tutorial 5 : Special (Magic/Dunder) Methods\n",
    "\n",
    "###  dunder methods are reprsented by underscores"
   ]
  },
  {
   "cell_type": "code",
   "execution_count": 19,
   "metadata": {},
   "outputs": [
    {
     "name": "stdout",
     "output_type": "stream",
     "text": [
      "Employee('Vaibhav', 'Desai', 60000)\n",
      "Vaibhav Desai - Vaibhav.Desai@email.com\n",
      "110000\n",
      "13\n"
     ]
    }
   ],
   "source": [
    "class Employee:\n",
    "    \n",
    "    raise_amount = 1.04\n",
    "    \n",
    "    def __init__(self,first,last,pay):\n",
    "        self.first = first\n",
    "        self.last = last\n",
    "        self.email = first + '.' + last + '@email.com'\n",
    "        self.pay = pay\n",
    "        \n",
    "    def fullname(self):\n",
    "        return '{} {}'.format(self.first, self.last)\n",
    "    \n",
    "    def apply_raise(self):\n",
    "        self.pay = int(self.pay * self.raise_amount)\n",
    " \n",
    "    def __repr__(self):\n",
    "        return \"Employee('{}', '{}', {})\".format(self.first, self.last, self.pay)\n",
    "    \n",
    "    def __str__(self):\n",
    "        return '{} - {}'.format(self.fullname(), self.email)\n",
    "        \n",
    "    def __add__(self,other):\n",
    "        return self.pay + other.pay\n",
    "    \n",
    "    def __len__(self):\n",
    "        return len(self.fullname())\n",
    "    \n",
    "emp_1 = Employee('Vaibhav','Desai',60000)\n",
    "emp_2 = Employee('Test','User',50000)\n",
    "\n",
    "\n",
    "print(repr(emp_1)) # what actually happens in the backend is print(emp_1.__repr__())\n",
    "print(str(emp_1))  # what actually happens in the backend is print(emp_1.__str__())\n",
    "\n",
    "print(emp_1 + emp_2)\n",
    "print(emp_1.__len__())"
   ]
  },
  {
   "cell_type": "markdown",
   "metadata": {},
   "source": [
    "Link to dunder methods documentation python : https://docs.python.org/3/reference/datamodel.html"
   ]
  },
  {
   "cell_type": "markdown",
   "metadata": {},
   "source": [
    "# Tutorial 6 : Property Decorators - Getters, Setters, and Deleters"
   ]
  },
  {
   "cell_type": "markdown",
   "metadata": {},
   "source": [
    "Using property decorators we can call class methods as we call class instances without breaking the code. For example, previously we used email as the Employee class instance, than we changed the first name of an employee, but that change did not reflect in the email. So, we defined a class  method for email but that would break the code for existing usage of emails as class instance. Using property decorators we can use the class method as class instances without breaking the existing code."
   ]
  },
  {
   "cell_type": "code",
   "execution_count": 21,
   "metadata": {},
   "outputs": [
    {
     "name": "stdout",
     "output_type": "stream",
     "text": [
      "Corey\n",
      "Corey.schafer@email.com\n",
      "Corey schafer\n",
      "Delete Name!\n"
     ]
    }
   ],
   "source": [
    "class Employee:\n",
    "    def __init__(self,first,last):\n",
    "        self.first = first\n",
    "        self.last = last\n",
    "        #self.email = first + '.' + last + '@email.com'\n",
    "    \n",
    "    @property   \n",
    "    def email(self):\n",
    "        return '{}.{}@email.com'.format(self.first,self.last)\n",
    "    \n",
    "    @property\n",
    "    def fullname(self):\n",
    "        return '{} {}'.format(self.first,self.last)\n",
    "    \n",
    "    @fullname.setter\n",
    "    def fullname(self, name):\n",
    "        first, last = name.split(' ')\n",
    "        self.first = first\n",
    "        self.last = last\n",
    "        \n",
    "    @fullname.deleter\n",
    "    def fullname(self):\n",
    "        print('Delete Name!')\n",
    "        self.first = None\n",
    "        self.last = None\n",
    "    \n",
    "emp_1 = Employee('John', 'Smith')    \n",
    "\n",
    "emp_1.fullname = 'Corey schafer' #yield an attribute error without using the setter decorator  \n",
    "\n",
    "print(emp_1.first)\n",
    "print(emp_1.email)\n",
    "print(emp_1.fullname)\n",
    "\n",
    "del emp_1.fullname"
   ]
  }
 ],
 "metadata": {
  "kernelspec": {
   "display_name": "Python 3",
   "language": "python",
   "name": "python3"
  },
  "language_info": {
   "codemirror_mode": {
    "name": "ipython",
    "version": 3
   },
   "file_extension": ".py",
   "mimetype": "text/x-python",
   "name": "python",
   "nbconvert_exporter": "python",
   "pygments_lexer": "ipython3",
   "version": "3.8.3"
  }
 },
 "nbformat": 4,
 "nbformat_minor": 4
}
