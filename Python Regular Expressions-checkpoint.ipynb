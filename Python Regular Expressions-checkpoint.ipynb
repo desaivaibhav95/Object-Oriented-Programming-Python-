{
 "cells": [
  {
   "cell_type": "code",
   "execution_count": 1,
   "metadata": {},
   "outputs": [],
   "source": [
    "import re"
   ]
  },
  {
   "cell_type": "markdown",
   "metadata": {},
   "source": [
    "\\   Used to drop the special meaning of character\n",
    "    following it (discussed below)\n",
    "    \n",
    "[]  Represent a character class\n",
    "\n",
    "^   Matches the beginning\n",
    "\n",
    "$   Matches the end\n",
    "\n",
    ".   Matches any character except newline\n",
    "\n",
    "?   Matches zero or one occurrence.\n",
    "\n",
    "|   Means OR (Matches with any of the characters separated by it.\n",
    "\n",
    "*   Any number of occurrences (including 0 occurrences)\n",
    "\n",
    "+   One or more occurrences\n",
    "\n",
    "{}  Indicate number of occurrences of a preceding RE \n",
    "    to match.\n",
    "\n",
    "()  Enclose a group of REs\n",
    "\n",
    "Source : GeeksforGeeks"
   ]
  },
  {
   "cell_type": "code",
   "execution_count": 2,
   "metadata": {},
   "outputs": [
    {
     "data": {
      "text/plain": [
       "['a',\n",
       " 'm',\n",
       " 'a',\n",
       " 'y',\n",
       " 't',\n",
       " 'h',\n",
       " 'o',\n",
       " 'n',\n",
       " 'e',\n",
       " 'v',\n",
       " 'e',\n",
       " 'l',\n",
       " 'o',\n",
       " 'p',\n",
       " 'e',\n",
       " 'r']"
      ]
     },
     "execution_count": 2,
     "metadata": {},
     "output_type": "execute_result"
    }
   ],
   "source": [
    "# '[]' represents a character class.\n",
    "# compile() creates a regular expression character class [a-z] \n",
    "r = re.compile('[a-z]') # match the incoming string with 'a','b','c',..,'z'\n",
    "r.findall(\"I am a Python Developer.\")"
   ]
  },
  {
   "cell_type": "markdown",
   "metadata": {},
   "source": [
    "Metacharacter backslash '\\' signals sequences. If the backslash is to be used without its special meaning as metacharacter, use '\\\\'\n",
    "\n",
    "\\d   Matches any decimal digit, this is equivalent\n",
    "     to the set class [0-9].\n",
    "\n",
    "\\D   Matches any non-digit character.\n",
    "\n",
    "\\s   Matches any whitespace character.\n",
    "\n",
    "\\S   Matches any non-whitespace character\n",
    "\n",
    "\\w   Matches any alphanumeric character, this is\n",
    "     equivalent to the class [a-zA-Z0-9_].\n",
    "\n",
    "\\W   Matches any non-alphanumeric character. \n",
    "\n",
    "Source : GeeksforGeeks"
   ]
  },
  {
   "cell_type": "code",
   "execution_count": 3,
   "metadata": {},
   "outputs": [
    {
     "data": {
      "text/plain": [
       "['1', '0', '1', '9', '9', '0']"
      ]
     },
     "execution_count": 3,
     "metadata": {},
     "output_type": "execute_result"
    }
   ],
   "source": [
    "s = re.compile('\\d')\n",
    "s.findall(\"I was born on 10 august, 1990.\")"
   ]
  },
  {
   "cell_type": "code",
   "execution_count": 4,
   "metadata": {},
   "outputs": [
    {
     "name": "stdout",
     "output_type": "stream",
     "text": [
      "['I', 'w', 'a', 's', 'b', 'o', 'r', 'n', 'o', 'n', '1', '0', 'a', 'u', 'g', 'u', 's', 't', '1', '9', '9', '0', 'I', 'a', 'm', '3', '0', 'y', 'e', 'a', 'r', 's', 'o', 'l', 'd']\n",
      "\r\n",
      "['I', 'was', 'born', 'on', '10', 'august', '1990', 'I', 'am', '30', 'years', 'old']\n",
      "\r\n",
      "[' ', ' ', ' ', ' ', ' ', ',', ' ', '.', ' ', ' ', ' ', ' ', ' ', '.']\n"
     ]
    }
   ],
   "source": [
    "# \\w is equivalent to [a-zA-Z0-9_]\n",
    "a = re.compile('\\w')\n",
    "print(a.findall(\"I was born on 10 august, 1990. I am 30 years old.\"))\n",
    "\n",
    "print(\"\\r\")\n",
    "\n",
    "# \\w+ matches to a group of alphanumeric characters\n",
    "b = re.compile('\\w+')\n",
    "print(b.findall(\"I was born on 10 august, 1990. I am 30 years old.\"))\n",
    "\n",
    "print(\"\\r\")\n",
    "\n",
    "# \\W matches non-alphanumeric characters\n",
    "c = re.compile('\\W')\n",
    "print(c.findall(\"I was born on 10 august, 1990. I am 30 years old.\"))"
   ]
  },
  {
   "cell_type": "markdown",
   "metadata": {},
   "source": [
    "### Function split() \n",
    "Split string by the occurrences of a character or a pattern, upon finding that pattern, the remaining characters from the string are returned as part of the resulting list. \n",
    "\n",
    "re.split(pattern, string, maxsplit=0, flags=0)\n",
    "\n",
    "The First parameter, pattern denotes the regular expression, string is the given string in which pattern will be searched for and in which splitting occurs, maxsplit if not provided is considered to be zero ‘0’, and if any nonzero value is provided, then at most that many splits occurs. If maxsplit = 1, then the string will split once only, resulting in a list of length 2. The flags are very useful and can help to shorten code, they are not necessary parameters, eg: flags = re.IGNORECASE, In this split, case will be ignored.\n",
    "\n",
    "Source : GeeksforGeeks"
   ]
  },
  {
   "cell_type": "code",
   "execution_count": 11,
   "metadata": {},
   "outputs": [
    {
     "name": "stdout",
     "output_type": "stream",
     "text": [
      "['I', 'was', 'born', 'on', '10', 'august', '1990', 'I', 'am', '30', 'years', 'old', '']\n",
      "\r\n",
      "['I was born on ', ' august, ', '. I am ', ' years old.']\n"
     ]
    }
   ],
   "source": [
    "from re import split\n",
    "\n",
    "# splitting based on alphanumeric characters i.e. splitting the string when ',' and ' ' is detected\n",
    "print(split('\\W+',\"I was born on 10 august, 1990. I am 30 years old.\"))\n",
    "\n",
    "print(\"\\r\")\n",
    "\n",
    "# splitting when a decimal is detected\n",
    "print(split('\\d+',\"I was born on 10 august, 1990. I am 30 years old.\"))"
   ]
  },
  {
   "cell_type": "code",
   "execution_count": 20,
   "metadata": {},
   "outputs": [
    {
     "name": "stdout",
     "output_type": "stream",
     "text": [
      "['I w', 's b', 'rn ', 'n 10 ', '', 'g', 'st', ' 1990. I ', 'm 30 y', '', 'rs ', 'ld.']\n",
      "\r\n",
      "['I w', 's b', 'rn ', 'n 10 A', 'g', 'st', ' 1990. I ', 'm 30 y', '', 'rs ', 'ld.']\n",
      "\r\n",
      "['', ' w', 's b', 'rn ', 'n 10 ', '', 'g', 'st', ' 1990. ', ' ', 'm 30 y', '', 'rs ', 'ld.']\n"
     ]
    }
   ],
   "source": [
    "# splitting when a vowel is encountered\n",
    "print(split('[a,e,i,o,u]',\"I was born on 10 august, 1990. I am 30 years old.\"))\n",
    "\n",
    "print(\"\\r\")\n",
    "\n",
    "# split is case sensitive and so does not detect 'A'\n",
    "print(split('[a,e,i,o,u]',\"I was born on 10 August, 1990. I am 30 years old.\"))\n",
    "\n",
    "print(\"\\r\")\n",
    "\n",
    "# explicitly specifying to ignore case in the string so 'august' and 'August' are treated the same\n",
    "print(split('[a,e,i,o,u]',\"I was born on 10 august, 1990. I am 30 years old.\", flags = re.IGNORECASE))"
   ]
  },
  {
   "cell_type": "markdown",
   "metadata": {},
   "source": [
    "### Function Sub()\n",
    "\n",
    "re.sub(pattern, repl, string, count=0, flags=0)\n",
    "\n",
    "The ‘sub’ in the function stands for SubString, a certain regular expression pattern is searched in the given string(3rd parameter), and upon finding the substring pattern is replaced by repl(2nd parameter), count checks and maintains the number of times this occurs. \n",
    "\n",
    "Source : GeeksforGeeks"
   ]
  },
  {
   "cell_type": "code",
   "execution_count": 25,
   "metadata": {},
   "outputs": [
    {
     "name": "stdout",
     "output_type": "stream",
     "text": [
      "X was born on 10 august, 1990. X am 30 years old.\n",
      "\r\n",
      "X was born on 10 august, 1990. I am 30 years old.\n",
      "\r\n",
      "I was born on 10 august, 1990 & I am 30 years old.\n",
      "\r\n",
      "I was born on 10 august, 1990 & I am 30 years old.\n"
     ]
    }
   ],
   "source": [
    "# replacing 'I' with 'X'\n",
    "print(re.sub('I','X',\"I was born on 10 august, 1990. I am 30 years old.\"))\n",
    "\n",
    "print(\"\\r\")\n",
    "\n",
    "# setting count to 1 replacing 'I' with 'X' for only the first time it is encountered\n",
    "print(re.sub('I','X',\"I was born on 10 august, 1990. I am 30 years old.\", count = 1))\n",
    "\n",
    "print(\"\\r\")\n",
    "\n",
    "# \\s is for start and end of a string\n",
    "print(re.sub('and', '&', \"I was born on 10 august, 1990 and I am 30 years old.\"))\n",
    "\n",
    "print(\"\\r\")\n",
    "\n",
    "# ignoring case so 'and' and 'AND' is treated as the same\n",
    "print(re.sub('AND', '&', \"I was born on 10 august, 1990 and I am 30 years old.\", flags = re.IGNORECASE))"
   ]
  },
  {
   "cell_type": "markdown",
   "metadata": {},
   "source": [
    "### Function subn()\n",
    "\n",
    "re.subn(pattern, repl, string, count=0, flags=0)\n",
    "\n",
    "subn() is similar to sub() in all ways, except in its way to providing output. It returns a tuple with count of total of replacement and the new string rather than just the string. \n",
    "\n",
    "Source : GeeksforGeeks"
   ]
  },
  {
   "cell_type": "code",
   "execution_count": 27,
   "metadata": {},
   "outputs": [
    {
     "name": "stdout",
     "output_type": "stream",
     "text": [
      "('I was born on 10 august, 1990 & I am 30 years old.', 1)\n"
     ]
    }
   ],
   "source": [
    "print(re.subn('and', '&', \"I was born on 10 august, 1990 and I am 30 years old.\"))"
   ]
  },
  {
   "cell_type": "markdown",
   "metadata": {},
   "source": [
    "### Function escape()\n",
    "\n",
    "re.escape(string)\n",
    "\n",
    "Return string with all non-alphanumerics backslashed, this is useful if you want to match an arbitrary literal string that may have regular expression metacharacters in it.\n",
    "\n",
    "Source : GeeksforGeeks"
   ]
  },
  {
   "cell_type": "code",
   "execution_count": 29,
   "metadata": {},
   "outputs": [
    {
     "name": "stdout",
     "output_type": "stream",
     "text": [
      "I\\ was\\ born\\ on\\ 10\\ august,\\ 1990\\ and\\ I\\ am\\ 30\\ years\\ old\\.\n"
     ]
    }
   ],
   "source": [
    "print(re.escape(\"I was born on 10 august, 1990 and I am 30 years old.\"))"
   ]
  },
  {
   "cell_type": "markdown",
   "metadata": {},
   "source": [
    "### Function search()\n",
    "\n",
    "re.search()\n",
    "This method either returns None (if the pattern doesn’t match), or a re.MatchObject that contains information about the matching part of the string. This method stops after the first match, so this is best suited for testing a regular expression more than extracting data.\n",
    "\n",
    "Source : GeeksforGeeks"
   ]
  },
  {
   "cell_type": "code",
   "execution_count": 47,
   "metadata": {},
   "outputs": [
    {
     "name": "stdout",
     "output_type": "stream",
     "text": [
      "Match at index 14, 23\n",
      "Full match : 10 august\n",
      "Date : 10\n",
      "Month : august\n"
     ]
    }
   ],
   "source": [
    "import re\n",
    "\n",
    "# regular expression to match first the date and then the month\n",
    "regex = r\"(\\d+) ([a-zA-Z]+)\"\n",
    "match = re.search(regex, \"I was born on 10 august, 1990 and I am 30 years old.\")\n",
    "if match != None:\n",
    "    print(\"Match at index %s, %s\" % (match.start(), match.end()))\n",
    "    print(\"Full match : %s\" % (match.group(0)))\n",
    "    print(\"Date : %s\" % (match.group(1)))\n",
    "    print(\"Month : %s\" % (match.group(2)))\n",
    "else:\n",
    "    print(\"The regex pattern does not match.\")"
   ]
  },
  {
   "cell_type": "markdown",
   "metadata": {},
   "source": [
    "### Matching a pattern with text : match()\n",
    "\n",
    "re.match() : This function attempts to match pattern to whole string. The re.match function returns a match object on success, None on failure.\n",
    "\n",
    "re.match(pattern, string, flags=0)\n",
    "\n",
    "pattern : Regular expression to be matched.\n",
    "string : String where pattern is searched\n",
    "flags : We can specify different flags \n",
    "        using bitwise OR (|). "
   ]
  },
  {
   "cell_type": "code",
   "execution_count": 49,
   "metadata": {},
   "outputs": [
    {
     "name": "stdout",
     "output_type": "stream",
     "text": [
      "Given data : January 26\n",
      "Month : January\n",
      "Day : 26\n",
      "\n",
      "Given data : January 26\n",
      "Month : January\n",
      "Day : 26\n"
     ]
    }
   ],
   "source": [
    "import re\n",
    "\n",
    "def findMonthAndDate(string):\n",
    "    \n",
    "    regex = r\"([a-zA-Z]+) (\\d+)\"\n",
    "    match = re.match(regex, string)\n",
    "    \n",
    "    if match == None:\n",
    "        print(\"Not a valid date.\")\n",
    "        return\n",
    "    \n",
    "    print(\"Given data : %s\" % (match.group()))\n",
    "    print(\"Month : %s\" % (match.group(1)))\n",
    "    print(\"Day : %s\" % (match.group(2)))\n",
    "    \n",
    "    \n",
    "# Driver code\n",
    "findMonthAndDate(\"January 26\")\n",
    "print(\"\")\n",
    "findMonthAndDate(\"January 26 is India's Republic Day.\")"
   ]
  },
  {
   "cell_type": "markdown",
   "metadata": {},
   "source": [
    "### Function findall():\n",
    "\n",
    "re.findall() : Return all non-overlapping matches of pattern in string, as a list of strings. The string is scanned left-to-right, and matches are returned in the order found."
   ]
  },
  {
   "cell_type": "code",
   "execution_count": 51,
   "metadata": {},
   "outputs": [
    {
     "data": {
      "text/plain": [
       "['71', '26', '1950']"
      ]
     },
     "execution_count": 51,
     "metadata": {},
     "output_type": "execute_result"
    }
   ],
   "source": [
    "regex = '\\d+'\n",
    "re.findall(regex, \"This is India's 71st republic day. India's republic day is on 26 January, 1950.\")"
   ]
  },
  {
   "cell_type": "markdown",
   "metadata": {},
   "source": [
    "## Verbose in Python Regex\n",
    "\n",
    "re.VERBOSE : This flag allows you to write regular expressions that look nicer and are more readable by allowing you to visually separate logical sections of the pattern and add comments.\n",
    "Whitespace within the pattern is ignored, except when in a character class, or when preceded by an unescaped backslash, or within tokens like *?, (?: or (?P. When a line contains a # that is not in a character class and is not preceded by an unescaped backslash, all characters from the leftmost such # through the end of the line are ignored.\n",
    "\n",
    "Source : GeeksforGeeks"
   ]
  },
  {
   "cell_type": "code",
   "execution_count": 56,
   "metadata": {},
   "outputs": [
    {
     "data": {
      "text/plain": [
       "[]"
      ]
     },
     "execution_count": 56,
     "metadata": {},
     "output_type": "execute_result"
    }
   ],
   "source": [
    "# Without using Verbose\n",
    "regex_email = re.compile(r'^([a-z0-9_\\.-]+)@(0-9a-z\\.-]+)\\.([a-z\\.]{2,6})$', re.IGNORECASE)\n",
    "regex_email.findall(\"123.abc@xyz.com\")"
   ]
  },
  {
   "cell_type": "code",
   "execution_count": 61,
   "metadata": {},
   "outputs": [
    {
     "name": "stdout",
     "output_type": "stream",
     "text": [
      "[('123.abc', 'xyz', 'com')]\n"
     ]
    }
   ],
   "source": [
    "# Using verbose\n",
    "regex_email = re.compile(r\"\"\"\n",
    "             ^([a-z0-9_\\.-]+)  # local part\n",
    "             @                 # single @ sign\n",
    "             ([0-9a-z\\.-]+)    # Domain name\n",
    "             \\.                # single dot\n",
    "             ([a-z\\.]{2,6}$)   # top level domain\n",
    "             \"\"\", re.VERBOSE | re.IGNORECASE)\n",
    "\n",
    "print(regex_email.findall(\"123.abc@xyz.com\"))"
   ]
  },
  {
   "cell_type": "markdown",
   "metadata": {},
   "source": [
    "### Password Validation\n",
    "\n",
    "compile() method of Regex module makes a Regex object, making it possible to execute regex functions onto the pat variable. Then we check if the pattern defined by pat is followed by the input string passwd. If so, the search method returns true, which would allow the password to be valid.\n",
    "\n",
    "Source: GeeksforGeeks"
   ]
  },
  {
   "cell_type": "code",
   "execution_count": 62,
   "metadata": {},
   "outputs": [
    {
     "name": "stdout",
     "output_type": "stream",
     "text": [
      "Passowrd is valid.\n"
     ]
    }
   ],
   "source": [
    "def main():\n",
    "    password = 'Geek@123'\n",
    "    reg = \"^(?=.*[a-z])(?=.*[A-Z])(?=.*\\d)(?=.*[@$!%*#?&])[A-Za-z\\d@$!#%*?&]{6,20}$\"\n",
    "    pattern = re.compile(reg)\n",
    "    srch = re.search(pattern,password)\n",
    "    \n",
    "    if srch:\n",
    "        print(\"Passowrd is valid.\")\n",
    "    else:\n",
    "        print(\"Password invalid.\")\n",
    "        \n",
    "if __name__ == '__main__':\n",
    "    main()"
   ]
  }
 ],
 "metadata": {
  "kernelspec": {
   "display_name": "Python 3",
   "language": "python",
   "name": "python3"
  },
  "language_info": {
   "codemirror_mode": {
    "name": "ipython",
    "version": 3
   },
   "file_extension": ".py",
   "mimetype": "text/x-python",
   "name": "python",
   "nbconvert_exporter": "python",
   "pygments_lexer": "ipython3",
   "version": "3.8.3"
  }
 },
 "nbformat": 4,
 "nbformat_minor": 4
}
