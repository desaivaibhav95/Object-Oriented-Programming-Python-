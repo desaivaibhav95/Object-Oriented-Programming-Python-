{
  "nbformat": 4,
  "nbformat_minor": 0,
  "metadata": {
    "colab": {
      "name": "Practice 2(Tips from Advanced Python tips book).ipynb",
      "provenance": [],
      "collapsed_sections": [],
      "toc_visible": true
    },
    "kernelspec": {
      "name": "python3",
      "display_name": "Python 3"
    }
  },
  "cells": [
    {
      "cell_type": "markdown",
      "metadata": {
        "id": "aeNIdLQoHX2a"
      },
      "source": [
        "Following notebook has been curated from a short book I recently read named Advanced Python tips. Some really helpful python hacks, some of them are slightly complex but all in all a great read. \r\n",
        "\r\n",
        "I have condensed my learnings from the book in a single notebook below."
      ]
    },
    {
      "cell_type": "markdown",
      "metadata": {
        "id": "Rnns9VUwQ0Dp"
      },
      "source": [
        "# Chapter 1 : Minimize for loop usage in Python"
      ]
    },
    {
      "cell_type": "markdown",
      "metadata": {
        "id": "m5n9hNe7p4Za"
      },
      "source": [
        "## List Comprehension"
      ]
    },
    {
      "cell_type": "code",
      "metadata": {
        "id": "PlRaGL2ecDLt",
        "colab": {
          "base_uri": "https://localhost:8080/"
        },
        "outputId": "0fba0b8b-4986-4538-fb63-e35fc090d869"
      },
      "source": [
        "# Concise and clean code using list comprehension\n",
        "x = range(5)\n",
        "y = [i ** 2 for i in x]\n",
        "print(y)"
      ],
      "execution_count": null,
      "outputs": [
        {
          "output_type": "stream",
          "text": [
            "[0, 1, 4, 9, 16]\n"
          ],
          "name": "stdout"
        }
      ]
    },
    {
      "cell_type": "code",
      "metadata": {
        "id": "t5Sss_hrdlyM",
        "colab": {
          "base_uri": "https://localhost:8080/"
        },
        "outputId": "e09ce3e1-6794-4c5c-8015-297b6d6e430f"
      },
      "source": [
        "y_even = [i ** 2 for i in x if i % 2 == 0]\n",
        "print(y_even)"
      ],
      "execution_count": null,
      "outputs": [
        {
          "output_type": "stream",
          "text": [
            "[0, 4, 16]\n"
          ],
          "name": "stdout"
        }
      ]
    },
    {
      "cell_type": "code",
      "metadata": {
        "id": "VX6Xm-ehe9wP",
        "colab": {
          "base_uri": "https://localhost:8080/"
        },
        "outputId": "6589b8e0-8b63-4447-a4af-e5ceaae9df3d"
      },
      "source": [
        "a = range(10)\n",
        "b_squared_cubed = [i ** 2 if i % 2 == 0 else i ** 3 for i in a]\n",
        "print(b_squared_cubed)"
      ],
      "execution_count": null,
      "outputs": [
        {
          "output_type": "stream",
          "text": [
            "[0, 1, 4, 27, 16, 125, 36, 343, 64, 729]\n"
          ],
          "name": "stdout"
        }
      ]
    },
    {
      "cell_type": "markdown",
      "metadata": {
        "id": "CCmPXnrpp89H"
      },
      "source": [
        "## Dictionary Comprehension"
      ]
    },
    {
      "cell_type": "code",
      "metadata": {
        "id": "c7Y9hkfrf8TA",
        "colab": {
          "base_uri": "https://localhost:8080/"
        },
        "outputId": "9db9af9b-8ce8-4dcd-fe26-251c0f0a392c"
      },
      "source": [
        "# Sometimes we need both the index in an array as well as the value. In such cases it is a good idea to enumerate the list rather \n",
        "# than indexing it.\n",
        "X = ['A','B','C']\n",
        "for i, val in enumerate(X):\n",
        "  print(\"index is %d and value is %s\" % (i,val))"
      ],
      "execution_count": null,
      "outputs": [
        {
          "output_type": "stream",
          "text": [
            "index is 0 and value is A\n",
            "index is 1 and value is B\n",
            "index is 2 and value is C\n"
          ],
          "name": "stdout"
        }
      ]
    },
    {
      "cell_type": "code",
      "metadata": {
        "id": "RJTzl8EFrkKY",
        "colab": {
          "base_uri": "https://localhost:8080/"
        },
        "outputId": "f3bcddf8-a955-4238-d02d-c5735235ee93"
      },
      "source": [
        "# The dictionary comprehension way\n",
        "Y = [1,2,3,4,5,6]\n",
        "{i:i**2 for i in Y}"
      ],
      "execution_count": null,
      "outputs": [
        {
          "output_type": "execute_result",
          "data": {
            "text/plain": [
              "{1: 1, 2: 4, 3: 9, 4: 16, 5: 25, 6: 36}"
            ]
          },
          "metadata": {
            "tags": []
          },
          "execution_count": 5
        }
      ]
    },
    {
      "cell_type": "code",
      "metadata": {
        "id": "NDSFJLKMtCLC",
        "colab": {
          "base_uri": "https://localhost:8080/"
        },
        "outputId": "0b33c29a-8a55-4f2d-9ee8-0c77f0a3ee7f"
      },
      "source": [
        "# Dictionary only for even values\n",
        "Y = [1,2,3,4,5,6]\n",
        "{i:i**2 for i in Y if i%2==0}"
      ],
      "execution_count": null,
      "outputs": [
        {
          "output_type": "execute_result",
          "data": {
            "text/plain": [
              "{2: 4, 4: 16, 6: 36}"
            ]
          },
          "metadata": {
            "tags": []
          },
          "execution_count": 6
        }
      ]
    },
    {
      "cell_type": "code",
      "metadata": {
        "id": "mJYt5H6ixxRj",
        "colab": {
          "base_uri": "https://localhost:8080/"
        },
        "outputId": "f37fc351-d1fa-407a-f4ca-7c4818071124"
      },
      "source": [
        "# Dictionary with squared values for even key and cubed values for odd key\n",
        "Z = range(10)\n",
        "{i:i**2 if i%2==0 else i**3 for i in Z}"
      ],
      "execution_count": null,
      "outputs": [
        {
          "output_type": "execute_result",
          "data": {
            "text/plain": [
              "{0: 0, 1: 1, 2: 4, 3: 27, 4: 16, 5: 125, 6: 36, 7: 343, 8: 64, 9: 729}"
            ]
          },
          "metadata": {
            "tags": []
          },
          "execution_count": 7
        }
      ]
    },
    {
      "cell_type": "markdown",
      "metadata": {
        "id": "PxsG5qHF0FJI"
      },
      "source": [
        "Use List Comprehensions and Dict Comprehensions when you need to use a for loop. Use enumerate when you need an array index."
      ]
    },
    {
      "cell_type": "markdown",
      "metadata": {
        "id": "n46X9kYJQ9Lx"
      },
      "source": [
        "# Chapter 2 : Python Defaultdict and Counter"
      ]
    },
    {
      "cell_type": "markdown",
      "metadata": {
        "id": "6d1aE3W6RnuW"
      },
      "source": [
        "## Counting the number of word occurences in a piece of text."
      ]
    },
    {
      "cell_type": "code",
      "metadata": {
        "id": "l8zEgLxKy1Tu"
      },
      "source": [
        "text = \"Myself Vaibhav Desai. I am twenty four years of age. I am a resident of India. I am an Engineer by profession. I am fond of Indian cuisines. I like to play guitar. I am also an avid reader and particularly like to read non-fiction books.\""
      ],
      "execution_count": null,
      "outputs": []
    },
    {
      "cell_type": "code",
      "metadata": {
        "id": "rgOAd4IgzheC"
      },
      "source": [
        "# Naive Python dictionary implementation\n",
        "word_count_dict = {}\n",
        "\n",
        "for w in text.split(\" \"):\n",
        "  if w in word_count_dict:\n",
        "      word_count_dict[w] += 1\n",
        "  else:\n",
        "      word_count_dict[w] = 1  "
      ],
      "execution_count": null,
      "outputs": []
    },
    {
      "cell_type": "code",
      "metadata": {
        "id": "W9XhoMKNS3Ma",
        "colab": {
          "base_uri": "https://localhost:8080/"
        },
        "outputId": "ed4fb0b8-48e3-4438-cfbc-d8a602042e74"
      },
      "source": [
        "word_count_dict"
      ],
      "execution_count": null,
      "outputs": [
        {
          "output_type": "execute_result",
          "data": {
            "text/plain": [
              "{'Desai.': 1,\n",
              " 'Engineer': 1,\n",
              " 'I': 6,\n",
              " 'India.': 1,\n",
              " 'Indian': 1,\n",
              " 'Myself': 1,\n",
              " 'Vaibhav': 1,\n",
              " 'a': 1,\n",
              " 'age.': 1,\n",
              " 'also': 1,\n",
              " 'am': 5,\n",
              " 'an': 2,\n",
              " 'and': 1,\n",
              " 'avid': 1,\n",
              " 'books.': 1,\n",
              " 'by': 1,\n",
              " 'cuisines.': 1,\n",
              " 'fond': 1,\n",
              " 'four': 1,\n",
              " 'guitar.': 1,\n",
              " 'like': 2,\n",
              " 'non-fiction': 1,\n",
              " 'of': 3,\n",
              " 'particularly': 1,\n",
              " 'play': 1,\n",
              " 'profession.': 1,\n",
              " 'read': 1,\n",
              " 'reader': 1,\n",
              " 'resident': 1,\n",
              " 'to': 2,\n",
              " 'twenty': 1,\n",
              " 'years': 1}"
            ]
          },
          "metadata": {
            "tags": []
          },
          "execution_count": 10
        }
      ]
    },
    {
      "cell_type": "code",
      "metadata": {
        "id": "LGmbUwYXTqIz"
      },
      "source": [
        "# Default dict implementation\n",
        "from collections import defaultdict\n",
        "word_count_dict = defaultdict(int)\n",
        "for w in text.split(\" \"):\n",
        "  word_count_dict[w] += 1"
      ],
      "execution_count": null,
      "outputs": []
    },
    {
      "cell_type": "code",
      "metadata": {
        "id": "o2PI6qasUhMf",
        "colab": {
          "base_uri": "https://localhost:8080/"
        },
        "outputId": "b5e77895-00e1-4e75-cf1a-4ca75961798d"
      },
      "source": [
        "word_count_dict"
      ],
      "execution_count": null,
      "outputs": [
        {
          "output_type": "execute_result",
          "data": {
            "text/plain": [
              "defaultdict(int,\n",
              "            {'Desai.': 1,\n",
              "             'Engineer': 1,\n",
              "             'I': 6,\n",
              "             'India.': 1,\n",
              "             'Indian': 1,\n",
              "             'Myself': 1,\n",
              "             'Vaibhav': 1,\n",
              "             'a': 1,\n",
              "             'age.': 1,\n",
              "             'also': 1,\n",
              "             'am': 5,\n",
              "             'an': 2,\n",
              "             'and': 1,\n",
              "             'avid': 1,\n",
              "             'books.': 1,\n",
              "             'by': 1,\n",
              "             'cuisines.': 1,\n",
              "             'fond': 1,\n",
              "             'four': 1,\n",
              "             'guitar.': 1,\n",
              "             'like': 2,\n",
              "             'non-fiction': 1,\n",
              "             'of': 3,\n",
              "             'particularly': 1,\n",
              "             'play': 1,\n",
              "             'profession.': 1,\n",
              "             'read': 1,\n",
              "             'reader': 1,\n",
              "             'resident': 1,\n",
              "             'to': 2,\n",
              "             'twenty': 1,\n",
              "             'years': 1})"
            ]
          },
          "metadata": {
            "tags": []
          },
          "execution_count": 12
        }
      ]
    },
    {
      "cell_type": "code",
      "metadata": {
        "id": "RnfQPkrkUizy"
      },
      "source": [
        "# Using Counter\n",
        "from collections import Counter\n",
        "word_count_dict = Counter()\n",
        "for w in text.split(\" \"):\n",
        "  word_count_dict[w] += 1  "
      ],
      "execution_count": null,
      "outputs": []
    },
    {
      "cell_type": "code",
      "metadata": {
        "id": "f3mFemnIUtIK",
        "colab": {
          "base_uri": "https://localhost:8080/"
        },
        "outputId": "1c12f950-4f21-4e90-f875-9f0095b896e0"
      },
      "source": [
        "word_count_dict"
      ],
      "execution_count": null,
      "outputs": [
        {
          "output_type": "execute_result",
          "data": {
            "text/plain": [
              "Counter({'Desai.': 1,\n",
              "         'Engineer': 1,\n",
              "         'I': 6,\n",
              "         'India.': 1,\n",
              "         'Indian': 1,\n",
              "         'Myself': 1,\n",
              "         'Vaibhav': 1,\n",
              "         'a': 1,\n",
              "         'age.': 1,\n",
              "         'also': 1,\n",
              "         'am': 5,\n",
              "         'an': 2,\n",
              "         'and': 1,\n",
              "         'avid': 1,\n",
              "         'books.': 1,\n",
              "         'by': 1,\n",
              "         'cuisines.': 1,\n",
              "         'fond': 1,\n",
              "         'four': 1,\n",
              "         'guitar.': 1,\n",
              "         'like': 2,\n",
              "         'non-fiction': 1,\n",
              "         'of': 3,\n",
              "         'particularly': 1,\n",
              "         'play': 1,\n",
              "         'profession.': 1,\n",
              "         'read': 1,\n",
              "         'reader': 1,\n",
              "         'resident': 1,\n",
              "         'to': 2,\n",
              "         'twenty': 1,\n",
              "         'years': 1})"
            ]
          },
          "metadata": {
            "tags": []
          },
          "execution_count": 14
        }
      ]
    },
    {
      "cell_type": "code",
      "metadata": {
        "id": "cVS8MBvtVtmQ",
        "colab": {
          "base_uri": "https://localhost:8080/"
        },
        "outputId": "62d54891-1d52-4d13-fc32-37fc2973f03e"
      },
      "source": [
        "# When using counters we can count the most freuent words in the text as well\n",
        "word_count_dict.most_common(5)"
      ],
      "execution_count": null,
      "outputs": [
        {
          "output_type": "execute_result",
          "data": {
            "text/plain": [
              "[('I', 6), ('am', 5), ('of', 3), ('an', 2), ('like', 2)]"
            ]
          },
          "metadata": {
            "tags": []
          },
          "execution_count": 15
        }
      ]
    },
    {
      "cell_type": "markdown",
      "metadata": {
        "id": "lI-3iOXIWpB4"
      },
      "source": [
        "## Other uses of Counter"
      ]
    },
    {
      "cell_type": "code",
      "metadata": {
        "id": "tR8cLhNwV4Gz",
        "colab": {
          "base_uri": "https://localhost:8080/"
        },
        "outputId": "804b74e9-4477-4a97-9dc6-ba19af05c0a2"
      },
      "source": [
        "# Counting characters\n",
        "Counter(\"aaaabsvcgbbbcvgdggddddcmvjfcdnjxnaaaaa\")"
      ],
      "execution_count": null,
      "outputs": [
        {
          "output_type": "execute_result",
          "data": {
            "text/plain": [
              "Counter({'a': 9,\n",
              "         'b': 4,\n",
              "         'c': 4,\n",
              "         'd': 6,\n",
              "         'f': 1,\n",
              "         'g': 4,\n",
              "         'j': 2,\n",
              "         'm': 1,\n",
              "         'n': 2,\n",
              "         's': 1,\n",
              "         'v': 3,\n",
              "         'x': 1})"
            ]
          },
          "metadata": {
            "tags": []
          },
          "execution_count": 16
        }
      ]
    },
    {
      "cell_type": "code",
      "metadata": {
        "id": "HIBn4UFLWhX7",
        "colab": {
          "base_uri": "https://localhost:8080/"
        },
        "outputId": "03f9e4f3-fb99-4730-8e17-43beb8b97ad8"
      },
      "source": [
        "# Counting python List elements\n",
        "Counter([1,2,4,3,5,4,3,6,7,8,9,12])"
      ],
      "execution_count": null,
      "outputs": [
        {
          "output_type": "execute_result",
          "data": {
            "text/plain": [
              "Counter({1: 1, 2: 1, 3: 2, 4: 2, 5: 1, 6: 1, 7: 1, 8: 1, 9: 1, 12: 1})"
            ]
          },
          "metadata": {
            "tags": []
          },
          "execution_count": 17
        }
      ]
    },
    {
      "cell_type": "markdown",
      "metadata": {
        "id": "b13WPGjBFqVu"
      },
      "source": [
        "Why use defaultdict?\n",
        "\n",
        "In a Counter, the value is always an integer. What if we wanted to parse through  list of tuples containing colors and fruits. And, wanted to create a list of key and list of values.\n",
        "\n",
        "The main functionality provided by a default dict is that it defaults the key to empty/zero if it is not found in the defaultdict. An example is shown below:\n"
      ]
    },
    {
      "cell_type": "code",
      "metadata": {
        "id": "D8tXdD4qW95a"
      },
      "source": [
        "s = [('color', 'blue'), ('color', 'orange'),\n",
        "('color', 'yellow'), ('fruit', 'banana'), ('fruit',\n",
        "'orange'),('fruit','banana')]\n",
        "d = defaultdict(list)\n",
        "for k,v in s:\n",
        "  d[k].append(v)  "
      ],
      "execution_count": null,
      "outputs": []
    },
    {
      "cell_type": "code",
      "metadata": {
        "id": "yMqGeasgHNX6",
        "colab": {
          "base_uri": "https://localhost:8080/"
        },
        "outputId": "af899b6f-970c-44e3-d86b-dfa23573aa55"
      },
      "source": [
        "print(d)"
      ],
      "execution_count": null,
      "outputs": [
        {
          "output_type": "stream",
          "text": [
            "defaultdict(<class 'list'>, {'color': ['blue', 'orange', 'yellow'], 'fruit': ['banana', 'orange', 'banana']})\n"
          ],
          "name": "stdout"
        }
      ]
    },
    {
      "cell_type": "markdown",
      "metadata": {
        "id": "sdPSRqlJHx_M"
      },
      "source": [
        "### Creating a function for what is alreay provided is not pythonic!!"
      ]
    },
    {
      "cell_type": "markdown",
      "metadata": {
        "id": "1vJp7UCzz_qn"
      },
      "source": [
        "# Chapter 3 : *args,**kwargs,decorators for Data Scientists"
      ]
    },
    {
      "cell_type": "markdown",
      "metadata": {
        "id": "CH8usV8a0i9y"
      },
      "source": [
        "## *args"
      ]
    },
    {
      "cell_type": "markdown",
      "metadata": {
        "id": "w2hX16HYsNl2"
      },
      "source": [
        "Putting it simply, one can use *args to give an arbitrary number of inputs to the function. An example is shown below."
      ]
    },
    {
      "cell_type": "code",
      "metadata": {
        "id": "ogD7OnISHN3q",
        "colab": {
          "base_uri": "https://localhost:8080/"
        },
        "outputId": "ff885a2e-b79c-4cfd-aad0-09ec1284ad2b"
      },
      "source": [
        "# Let's say we need to create a function that adds two numbers.\n",
        "def adder(x,y):\n",
        "  return x+y\n",
        "\n",
        "adder(2,3)"
      ],
      "execution_count": null,
      "outputs": [
        {
          "output_type": "execute_result",
          "data": {
            "text/plain": [
              "5"
            ]
          },
          "metadata": {
            "tags": []
          },
          "execution_count": 20
        }
      ]
    },
    {
      "cell_type": "code",
      "metadata": {
        "id": "SZcxmyqPs6NB",
        "colab": {
          "base_uri": "https://localhost:8080/"
        },
        "outputId": "edf6301f-d702-4443-b380-20a2a57f5c62"
      },
      "source": [
        "# What if we need to add three numbers.\n",
        "def adder(x,y,z):\n",
        "  return x+y+z\n",
        "\n",
        "adder(1,4,5)  "
      ],
      "execution_count": null,
      "outputs": [
        {
          "output_type": "execute_result",
          "data": {
            "text/plain": [
              "10"
            ]
          },
          "metadata": {
            "tags": []
          },
          "execution_count": 21
        }
      ]
    },
    {
      "cell_type": "markdown",
      "metadata": {
        "id": "PLZv6nDhx7vH"
      },
      "source": [
        "But, if we need to add unknown number of variables. We can use *args, *argv or *anyOtherName for that matter. Since, it is only the * that matters. Let's understand this by an example."
      ]
    },
    {
      "cell_type": "code",
      "metadata": {
        "id": "vjejal7YxhMx"
      },
      "source": [
        "def adder(*args):\n",
        "  result = 0\n",
        "  for arg in args:\n",
        "    result+= arg\n",
        "  return result  "
      ],
      "execution_count": null,
      "outputs": []
    },
    {
      "cell_type": "code",
      "metadata": {
        "id": "RazYS8hTyxNP",
        "colab": {
          "base_uri": "https://localhost:8080/"
        },
        "outputId": "9e1a1994-b73f-4b3c-cad9-866feb1e3b2c"
      },
      "source": [
        "adder(1,8,52,47,56,925,8)"
      ],
      "execution_count": null,
      "outputs": [
        {
          "output_type": "execute_result",
          "data": {
            "text/plain": [
              "1097"
            ]
          },
          "metadata": {
            "tags": []
          },
          "execution_count": 23
        }
      ]
    },
    {
      "cell_type": "markdown",
      "metadata": {
        "id": "ALh2l9blzyE3"
      },
      "source": [
        "What *args does is that it takes all your arguments and provides a variable length argument list to the function which you can use when you want.\n",
        "\n",
        "So, now one can put any number of arguments in the adder function above and can get the sum of all those variables as the result."
      ]
    },
    {
      "cell_type": "markdown",
      "metadata": {
        "id": "syOjTZvB0mec"
      },
      "source": [
        "## **kwargs"
      ]
    },
    {
      "cell_type": "markdown",
      "metadata": {
        "id": "vrmsqkhT2Au6"
      },
      "source": [
        "In simple terms, you can use **kwargs to give an arbitrary number of keyworded inputs to your function and access them using a dictionary.\n",
        "\n",
        "Let's understand this by means of an example."
      ]
    },
    {
      "cell_type": "code",
      "metadata": {
        "id": "NxE_cAQdy2UD",
        "colab": {
          "base_uri": "https://localhost:8080/"
        },
        "outputId": "1bb4a3ca-909d-4153-ebe9-2533837393d0"
      },
      "source": [
        "def myprint(name,age):\n",
        "  print(f'{name} is {age} years old')\n",
        "\n",
        "myprint('Mohan','26')"
      ],
      "execution_count": null,
      "outputs": [
        {
          "output_type": "stream",
          "text": [
            "Mohan is 26 years old\n"
          ],
          "name": "stdout"
        }
      ]
    },
    {
      "cell_type": "code",
      "metadata": {
        "id": "0nMsQOJA3yBs",
        "colab": {
          "base_uri": "https://localhost:8080/"
        },
        "outputId": "38adeb36-99ee-486b-ca6c-931b158ac67f"
      },
      "source": [
        "# For two names and two ages\n",
        "def myprint(name1,age1,name2,age2):\n",
        "  print(f'{name1} is {age1} years old')\n",
        "  print(f'{name2} is {age2} years old')\n",
        "\n",
        "myprint('Raj','30','Kumar','36')  "
      ],
      "execution_count": null,
      "outputs": [
        {
          "output_type": "stream",
          "text": [
            "Raj is 30 years old\n",
            "Kumar is 36 years old\n"
          ],
          "name": "stdout"
        }
      ]
    },
    {
      "cell_type": "markdown",
      "metadata": {
        "id": "jUK-KfDm5lTb"
      },
      "source": [
        "What if we do not know about the number of such inputs."
      ]
    },
    {
      "cell_type": "code",
      "metadata": {
        "id": "nKLPS7gP5XqG",
        "colab": {
          "base_uri": "https://localhost:8080/"
        },
        "outputId": "0c2c1f97-f052-4e61-b1b7-1d03184c0564"
      },
      "source": [
        "def myprint(**kwargs):\n",
        "  for k,v in kwargs.items():\n",
        "    print(f'{k} is {v} years old.')\n",
        "\n",
        "# This function can be called in the following manner.\n",
        "myprint(Aman=25,Kiran=40,Kumar=36,Pritesh=45)    "
      ],
      "execution_count": null,
      "outputs": [
        {
          "output_type": "stream",
          "text": [
            "Aman is 25 years old.\n",
            "Kiran is 40 years old.\n",
            "Kumar is 36 years old.\n",
            "Pritesh is 45 years old.\n"
          ],
          "name": "stdout"
        }
      ]
    },
    {
      "cell_type": "markdown",
      "metadata": {
        "id": "6vlefR29PVrG"
      },
      "source": [
        "## Decorators\n",
        "\n",
        "Decorators are functions that wrap another function thus modifying its behavior."
      ]
    },
    {
      "cell_type": "markdown",
      "metadata": {
        "id": "XGlUr8OWRr4Z"
      },
      "source": [
        "An example: Let us say we want to add custom functionality to some of our functions. The functionality is that whenever the function gets called the \"**function name** begins\" is printed and whenever the function ends the \"**function name** ends\" and time taken by the function is printed."
      ]
    },
    {
      "cell_type": "code",
      "metadata": {
        "id": "WOGS89mk6USI"
      },
      "source": [
        "# Assume our function is\n",
        "def somefunc(a,b):\n",
        "  output = a+b\n",
        "  return output"
      ],
      "execution_count": null,
      "outputs": []
    },
    {
      "cell_type": "markdown",
      "metadata": {
        "id": "uYM48esBTF-p"
      },
      "source": [
        "We can add some print lines to all our functions to achieve this."
      ]
    },
    {
      "cell_type": "code",
      "metadata": {
        "id": "Kpskm-fyS9kK",
        "colab": {
          "base_uri": "https://localhost:8080/"
        },
        "outputId": "05b27433-f162-4bd6-8876-7ecfc7c17f11"
      },
      "source": [
        "import time\n",
        "def somefunc(a,b):\n",
        "  print(\"somefunc begins\")\n",
        "  start_time = time.time()\n",
        "  output = a+b\n",
        "  print(\"somefunc ends in \", time.time()-start_time,\"secs\")\n",
        "  return output\n",
        "  \n",
        "somefunc(7,8)  "
      ],
      "execution_count": null,
      "outputs": [
        {
          "output_type": "stream",
          "text": [
            "somefunc begins\n",
            "somefunc ends in  4.76837158203125e-07 secs\n"
          ],
          "name": "stdout"
        },
        {
          "output_type": "execute_result",
          "data": {
            "text/plain": [
              "15"
            ]
          },
          "metadata": {
            "tags": []
          },
          "execution_count": 28
        }
      ]
    },
    {
      "cell_type": "markdown",
      "metadata": {
        "id": "ho2TU1lUUj0j"
      },
      "source": [
        "We can use decorators to wrap any function."
      ]
    },
    {
      "cell_type": "code",
      "metadata": {
        "id": "WbmRuIe_UK7D"
      },
      "source": [
        "from functools import wraps\n",
        "def timer(func):\n",
        "  @wraps(func)\n",
        "  def wrapper(a,b):\n",
        "    print(f\"{func.__name__!r} begins\")\n",
        "    start_time = time.time()\n",
        "    result = func(a,b)\n",
        "    print(f\"{func.__name__!r} ends in {time.time() - start_time} secs\")\n",
        "    return result\n",
        "  return wrapper      "
      ],
      "execution_count": null,
      "outputs": []
    },
    {
      "cell_type": "markdown",
      "metadata": {
        "id": "x0CfH004WzNI"
      },
      "source": [
        "This is how any decorator can be defined. functools help us in creating decorators using wraps. In essence, in the above decorator we do something before any function is called and something after any function is called.\n",
        "\n",
        "Further, we can use this timer decorator to decorate our function somefunc."
      ]
    },
    {
      "cell_type": "code",
      "metadata": {
        "id": "Z1Rr4_aTUMlh"
      },
      "source": [
        "@timer\n",
        "def anyfunc(a,b):\n",
        "  return a*b"
      ],
      "execution_count": null,
      "outputs": []
    },
    {
      "cell_type": "code",
      "metadata": {
        "id": "t876GeguZEUE",
        "colab": {
          "base_uri": "https://localhost:8080/"
        },
        "outputId": "d0d076a6-bf68-4336-e5c8-f5d9f0a09cf3"
      },
      "source": [
        "anyfunc(3,6)"
      ],
      "execution_count": null,
      "outputs": [
        {
          "output_type": "stream",
          "text": [
            "'anyfunc' begins\n",
            "'anyfunc' ends in 2.86102294921875e-06 secs\n"
          ],
          "name": "stdout"
        },
        {
          "output_type": "execute_result",
          "data": {
            "text/plain": [
              "18"
            ]
          },
          "metadata": {
            "tags": []
          },
          "execution_count": 31
        }
      ]
    },
    {
      "cell_type": "markdown",
      "metadata": {
        "id": "1kKHZJ0qZ165"
      },
      "source": [
        "Now, we can append @timer to each of our function for which we want to have the time printed."
      ]
    },
    {
      "cell_type": "markdown",
      "metadata": {
        "id": "BqYXPBjSbF9n"
      },
      "source": [
        "## Connecting all the pieces\n",
        "\n",
        "What if our function takes three arguments? Or many arguments? This is where everything in this chapter connects, using *args,**kwargs along with Decorators to wrap functions."
      ]
    },
    {
      "cell_type": "code",
      "metadata": {
        "id": "VBrNRkn4ZfNg"
      },
      "source": [
        "# We change our decorator function in order to work with an arbitrary number of variables in the function\n",
        "\n",
        "from functools import wraps\n",
        "def timer(func):\n",
        "  @wraps(func)\n",
        "  def wrapper(*args,**kwargs):\n",
        "    print(f\"{func.__name__!r} begins\")\n",
        "    start_time = time.time()\n",
        "    result = func(*args,**kwargs)\n",
        "    print(f\"{func.__name__!r} ends in {time.time()-start_time} secs\")\n",
        "    return result\n",
        "  return wrapper  "
      ],
      "execution_count": null,
      "outputs": []
    },
    {
      "cell_type": "markdown",
      "metadata": {
        "id": "gFBOIyoLuSSt"
      },
      "source": [
        "Now, our function can take any number of arguments and the decorator will still work.\n",
        "\n",
        "This is just a single use case of a decorator. There are several ways one can use them. "
      ]
    },
    {
      "cell_type": "code",
      "metadata": {
        "id": "WMwdaBC5eSI2"
      },
      "source": [
        "@timer\n",
        "def mysolution(x,y,z,c,k):\n",
        "  return ((((x*y)-z)/c)+k)"
      ],
      "execution_count": null,
      "outputs": []
    },
    {
      "cell_type": "code",
      "metadata": {
        "id": "bSwV9Dj-waTj",
        "colab": {
          "base_uri": "https://localhost:8080/"
        },
        "outputId": "33dbda74-ec5a-4d94-c6a7-d454d1882fbf"
      },
      "source": [
        "mysolution(2,4,7,5,9)"
      ],
      "execution_count": null,
      "outputs": [
        {
          "output_type": "stream",
          "text": [
            "'mysolution' begins\n",
            "'mysolution' ends in 4.0531158447265625e-06 secs\n"
          ],
          "name": "stdout"
        },
        {
          "output_type": "execute_result",
          "data": {
            "text/plain": [
              "9.2"
            ]
          },
          "metadata": {
            "tags": []
          },
          "execution_count": 34
        }
      ]
    },
    {
      "cell_type": "markdown",
      "metadata": {
        "id": "dOMFOT2KLl_S"
      },
      "source": [
        "# Chapter 4: Itertools, Generators and Generator Expressions\n"
      ]
    },
    {
      "cell_type": "markdown",
      "metadata": {
        "id": "p44Yhb1qMHML"
      },
      "source": [
        "## The Problem Statement\n",
        "\n",
        "Let's say that we need to run a for loop for over 100 million prime numbers.[Note : This problem statement could be extended to any case for example processing a million images or files in a database as well.]\n",
        "\n",
        "How could we deal with such a problem?\n",
        "We can create a list and keep all the prime numbers there, right? But, what about the memory such a list would occupy?\n",
        "\n",
        "However it would be great if we could keep the last prime number we have checked and returns just the next prime number. This is where iterators could be of great help!"
      ]
    },
    {
      "cell_type": "markdown",
      "metadata": {
        "id": "D6JloGABPfXX"
      },
      "source": [
        "## The Iterator Solution"
      ]
    },
    {
      "cell_type": "code",
      "metadata": {
        "id": "B_3kyOv0wiNY"
      },
      "source": [
        "# We create a class named primes and use it to generate primes.\n",
        "def check_prime(number):\n",
        "  for divisor in range(2, int(number **0.5)+1):\n",
        "    if number % divisor == 0:\n",
        "      return False\n",
        "  return True    \n",
        "class Primes:\n",
        "  def __init__(self, max):\n",
        "    #the maximum no. of primes we want generated\n",
        "    self.max=max\n",
        "    #start with this no. to check if it is prime\n",
        "    self.number=1\n",
        "    #No. of primes generated yet. We want to stop iteration when it reaches max\n",
        "    self.primes_generated  = 0\n",
        "  def __iter__(self):\n",
        "    return self\n",
        "  def __next__(self):\n",
        "    self.number += 1    \n",
        "    if self.primes_generated >= self.max:\n",
        "      raise StopIteration\n",
        "    elif check_prime(self.number):\n",
        "      self.primes_generated += 1  \n",
        "      return self.number\n",
        "    else:\n",
        "      return self.__next__()  "
      ],
      "execution_count": null,
      "outputs": []
    },
    {
      "cell_type": "code",
      "metadata": {
        "id": "GpWR4fI7RZTy"
      },
      "source": [
        "# We can then use this as:\n",
        "prime_generator = Primes(10000000)"
      ],
      "execution_count": null,
      "outputs": []
    },
    {
      "cell_type": "code",
      "metadata": {
        "id": "j5sAnlFpRa1Q"
      },
      "source": [
        "#for x in prime_generator:\n",
        "  # process here  "
      ],
      "execution_count": null,
      "outputs": []
    },
    {
      "cell_type": "markdown",
      "metadata": {
        "id": "m7c3C2RDZTUU"
      },
      "source": [
        "Here, I have defined an iterator. This is how most of the functions like xrange or ImageGenerator work.\n",
        "\n",
        "Every iterator needs to have:\n",
        "\n",
        "1. an __iter__ method that returns self, and \n",
        "\n",
        "2. an __next__ method that returns the next value.\n",
        "\n",
        "3. a StopIteration exception that signifies the ending of the iterator.\n",
        "\n",
        "Every iterator takes the above form and we can tweak the functions to our liking in this boilerplate code to do what we want to do.\n",
        "\n",
        "Also, we do not keep all the prime numbers in the memory just the state of the iterator like:\n",
        "What max prime number we have returned and how many primes we have returned already.\n",
        "\n",
        "But, it seems a little too much code to write. So, we can surely do better."
      ]
    },
    {
      "cell_type": "markdown",
      "metadata": {
        "id": "HMIL20hBXwqJ"
      },
      "source": [
        "## The Generator Solution\n",
        "\n",
        "Put simply, Generators provide us ways to write iterators easily usin the yield statement."
      ]
    },
    {
      "cell_type": "code",
      "metadata": {
        "id": "DeinuSdsXpMu"
      },
      "source": [
        "def Primes(max):\n",
        "  number = 1\n",
        "  generated = 0\n",
        "  while generated < max:\n",
        "    number += 1\n",
        "    if check_prime(number):\n",
        "      generated += 1\n",
        "      yield number"
      ],
      "execution_count": null,
      "outputs": []
    },
    {
      "cell_type": "code",
      "metadata": {
        "id": "fedMxgE_eqz9"
      },
      "source": [
        "# we can use this function as:\n",
        "prime_generator = Primes(100)"
      ],
      "execution_count": null,
      "outputs": []
    },
    {
      "cell_type": "code",
      "metadata": {
        "id": "sFteR-B_e7Ot"
      },
      "source": [
        "#for p in prime_generator:\n",
        "   #process here\n"
      ],
      "execution_count": null,
      "outputs": []
    },
    {
      "cell_type": "markdown",
      "metadata": {
        "id": "IBZYfqqFfe6D"
      },
      "source": [
        "It is s much simpler to read. But what is yield?\n",
        "Yield can be thought of as a return statement only as it returns the value.\n",
        "\n",
        "But, when a yield happens the state of the function is also saved in the memory. So at every iteration in for loop the function variables like number, generated and max are stored somewhere in memory.\n",
        "\n",
        "So what is happening is that the above function is taking care of all the boilerplate code for us by using the yield statement.\n",
        "\n",
        "Much more pythonic than the iterations approach."
      ]
    },
    {
      "cell_type": "markdown",
      "metadata": {
        "id": "-YaFMYu6g7ZF"
      },
      "source": [
        "# Generator Expression Solution\n",
        "\n",
        "While not explicitly better than the previous solution but we  can also use Generator expression for the same task. But, we might also lose some functionality here. They work exactly like List Comprehensions but they don't keep the whole list in memory."
      ]
    },
    {
      "cell_type": "code",
      "metadata": {
        "id": "HtFjBxqce_II"
      },
      "source": [
        "primes = (i for i in range(1,100000000) if check_prime(i))"
      ],
      "execution_count": null,
      "outputs": []
    },
    {
      "cell_type": "code",
      "metadata": {
        "id": "nXHTeSOR7egk"
      },
      "source": [
        "#for x in primes:\n",
        "  # do something"
      ],
      "execution_count": null,
      "outputs": []
    },
    {
      "cell_type": "markdown",
      "metadata": {
        "id": "eW8tFU_e7tqO"
      },
      "source": [
        "Functionality Loss: We can generate primes till 10M. But, we can't generate 10M primes. One can only do so much with generator expressions.\n",
        "\n",
        "But, generator expressions let us do some pretty cool things."
      ]
    },
    {
      "cell_type": "markdown",
      "metadata": {
        "id": "uLDGKNx_8Y4e"
      },
      "source": [
        "Let's say we need all the Pythagorean triplets lower than 1000. How can we get it?\n",
        "\n",
        "Using a generator, this can be done easily."
      ]
    },
    {
      "cell_type": "code",
      "metadata": {
        "id": "TKBU93qb7j9h"
      },
      "source": [
        "def triplet(n): #Find all the pythagorean triplets\n",
        "  for a in range(n):\n",
        "    for b in range(a):\n",
        "      for c in range(b):\n",
        "          if a*a == b*b + c*c:\n",
        "            yield(a,b,c)"
      ],
      "execution_count": null,
      "outputs": []
    },
    {
      "cell_type": "code",
      "metadata": {
        "id": "nMnIyOEW9WI8"
      },
      "source": [
        "triplet_generator = triplet(500)"
      ],
      "execution_count": null,
      "outputs": []
    },
    {
      "cell_type": "code",
      "metadata": {
        "id": "hy-wJOyw9kyX",
        "colab": {
          "base_uri": "https://localhost:8080/"
        },
        "outputId": "0c2ed5f5-1b29-4088-a9f6-1d6e10563df1"
      },
      "source": [
        "for x in triplet_generator:\n",
        "  print(x)"
      ],
      "execution_count": null,
      "outputs": [
        {
          "output_type": "stream",
          "text": [
            "(5, 4, 3)\n",
            "(10, 8, 6)\n",
            "(13, 12, 5)\n",
            "(15, 12, 9)\n",
            "(17, 15, 8)\n",
            "(20, 16, 12)\n",
            "(25, 20, 15)\n",
            "(25, 24, 7)\n",
            "(26, 24, 10)\n",
            "(29, 21, 20)\n",
            "(30, 24, 18)\n",
            "(34, 30, 16)\n",
            "(35, 28, 21)\n",
            "(37, 35, 12)\n",
            "(39, 36, 15)\n",
            "(40, 32, 24)\n",
            "(41, 40, 9)\n",
            "(45, 36, 27)\n",
            "(50, 40, 30)\n",
            "(50, 48, 14)\n",
            "(51, 45, 24)\n",
            "(52, 48, 20)\n",
            "(53, 45, 28)\n",
            "(55, 44, 33)\n",
            "(58, 42, 40)\n",
            "(60, 48, 36)\n",
            "(61, 60, 11)\n",
            "(65, 52, 39)\n",
            "(65, 56, 33)\n",
            "(65, 60, 25)\n",
            "(65, 63, 16)\n",
            "(68, 60, 32)\n",
            "(70, 56, 42)\n",
            "(73, 55, 48)\n",
            "(74, 70, 24)\n",
            "(75, 60, 45)\n",
            "(75, 72, 21)\n",
            "(78, 72, 30)\n",
            "(80, 64, 48)\n",
            "(82, 80, 18)\n",
            "(85, 68, 51)\n",
            "(85, 75, 40)\n",
            "(85, 77, 36)\n",
            "(85, 84, 13)\n",
            "(87, 63, 60)\n",
            "(89, 80, 39)\n",
            "(90, 72, 54)\n",
            "(91, 84, 35)\n",
            "(95, 76, 57)\n",
            "(97, 72, 65)\n",
            "(100, 80, 60)\n",
            "(100, 96, 28)\n",
            "(101, 99, 20)\n",
            "(102, 90, 48)\n",
            "(104, 96, 40)\n",
            "(105, 84, 63)\n",
            "(106, 90, 56)\n",
            "(109, 91, 60)\n",
            "(110, 88, 66)\n",
            "(111, 105, 36)\n",
            "(113, 112, 15)\n",
            "(115, 92, 69)\n",
            "(116, 84, 80)\n",
            "(117, 108, 45)\n",
            "(119, 105, 56)\n",
            "(120, 96, 72)\n",
            "(122, 120, 22)\n",
            "(123, 120, 27)\n",
            "(125, 100, 75)\n",
            "(125, 117, 44)\n",
            "(125, 120, 35)\n",
            "(130, 104, 78)\n",
            "(130, 112, 66)\n",
            "(130, 120, 50)\n",
            "(130, 126, 32)\n",
            "(135, 108, 81)\n",
            "(136, 120, 64)\n",
            "(137, 105, 88)\n",
            "(140, 112, 84)\n",
            "(143, 132, 55)\n",
            "(145, 105, 100)\n",
            "(145, 116, 87)\n",
            "(145, 143, 24)\n",
            "(145, 144, 17)\n",
            "(146, 110, 96)\n",
            "(148, 140, 48)\n",
            "(149, 140, 51)\n",
            "(150, 120, 90)\n",
            "(150, 144, 42)\n",
            "(153, 135, 72)\n",
            "(155, 124, 93)\n",
            "(156, 144, 60)\n",
            "(157, 132, 85)\n",
            "(159, 135, 84)\n",
            "(160, 128, 96)\n",
            "(164, 160, 36)\n",
            "(165, 132, 99)\n",
            "(169, 120, 119)\n",
            "(169, 156, 65)\n",
            "(170, 136, 102)\n",
            "(170, 150, 80)\n",
            "(170, 154, 72)\n",
            "(170, 168, 26)\n",
            "(173, 165, 52)\n",
            "(174, 126, 120)\n",
            "(175, 140, 105)\n",
            "(175, 168, 49)\n",
            "(178, 160, 78)\n",
            "(180, 144, 108)\n",
            "(181, 180, 19)\n",
            "(182, 168, 70)\n",
            "(183, 180, 33)\n",
            "(185, 148, 111)\n",
            "(185, 153, 104)\n",
            "(185, 175, 60)\n",
            "(185, 176, 57)\n",
            "(187, 165, 88)\n",
            "(190, 152, 114)\n",
            "(193, 168, 95)\n",
            "(194, 144, 130)\n",
            "(195, 156, 117)\n",
            "(195, 168, 99)\n",
            "(195, 180, 75)\n",
            "(195, 189, 48)\n",
            "(197, 195, 28)\n",
            "(200, 160, 120)\n",
            "(200, 192, 56)\n",
            "(202, 198, 40)\n",
            "(203, 147, 140)\n",
            "(204, 180, 96)\n",
            "(205, 156, 133)\n",
            "(205, 164, 123)\n",
            "(205, 187, 84)\n",
            "(205, 200, 45)\n",
            "(208, 192, 80)\n",
            "(210, 168, 126)\n",
            "(212, 180, 112)\n",
            "(215, 172, 129)\n",
            "(218, 182, 120)\n",
            "(219, 165, 144)\n",
            "(220, 176, 132)\n",
            "(221, 171, 140)\n",
            "(221, 195, 104)\n",
            "(221, 204, 85)\n",
            "(221, 220, 21)\n",
            "(222, 210, 72)\n",
            "(225, 180, 135)\n",
            "(225, 216, 63)\n",
            "(226, 224, 30)\n",
            "(229, 221, 60)\n",
            "(230, 184, 138)\n",
            "(232, 168, 160)\n",
            "(233, 208, 105)\n",
            "(234, 216, 90)\n",
            "(235, 188, 141)\n",
            "(238, 210, 112)\n",
            "(240, 192, 144)\n",
            "(241, 209, 120)\n",
            "(244, 240, 44)\n",
            "(245, 196, 147)\n",
            "(246, 240, 54)\n",
            "(247, 228, 95)\n",
            "(250, 200, 150)\n",
            "(250, 234, 88)\n",
            "(250, 240, 70)\n",
            "(255, 204, 153)\n",
            "(255, 225, 120)\n",
            "(255, 231, 108)\n",
            "(255, 252, 39)\n",
            "(257, 255, 32)\n",
            "(259, 245, 84)\n",
            "(260, 208, 156)\n",
            "(260, 224, 132)\n",
            "(260, 240, 100)\n",
            "(260, 252, 64)\n",
            "(261, 189, 180)\n",
            "(265, 212, 159)\n",
            "(265, 225, 140)\n",
            "(265, 247, 96)\n",
            "(265, 264, 23)\n",
            "(267, 240, 117)\n",
            "(269, 260, 69)\n",
            "(270, 216, 162)\n",
            "(272, 240, 128)\n",
            "(273, 252, 105)\n",
            "(274, 210, 176)\n",
            "(275, 220, 165)\n",
            "(275, 264, 77)\n",
            "(277, 252, 115)\n",
            "(280, 224, 168)\n",
            "(281, 231, 160)\n",
            "(285, 228, 171)\n",
            "(286, 264, 110)\n",
            "(287, 280, 63)\n",
            "(289, 240, 161)\n",
            "(289, 255, 136)\n",
            "(290, 210, 200)\n",
            "(290, 232, 174)\n",
            "(290, 286, 48)\n",
            "(290, 288, 34)\n",
            "(291, 216, 195)\n",
            "(292, 220, 192)\n",
            "(293, 285, 68)\n",
            "(295, 236, 177)\n",
            "(296, 280, 96)\n",
            "(298, 280, 102)\n",
            "(299, 276, 115)\n",
            "(300, 240, 180)\n",
            "(300, 288, 84)\n",
            "(303, 297, 60)\n",
            "(305, 224, 207)\n",
            "(305, 244, 183)\n",
            "(305, 273, 136)\n",
            "(305, 300, 55)\n",
            "(306, 270, 144)\n",
            "(310, 248, 186)\n",
            "(312, 288, 120)\n",
            "(313, 312, 25)\n",
            "(314, 264, 170)\n",
            "(315, 252, 189)\n",
            "(317, 308, 75)\n",
            "(318, 270, 168)\n",
            "(319, 231, 220)\n",
            "(320, 256, 192)\n",
            "(323, 285, 152)\n",
            "(325, 253, 204)\n",
            "(325, 260, 195)\n",
            "(325, 280, 165)\n",
            "(325, 300, 125)\n",
            "(325, 312, 91)\n",
            "(325, 315, 80)\n",
            "(325, 323, 36)\n",
            "(327, 273, 180)\n",
            "(328, 320, 72)\n",
            "(330, 264, 198)\n",
            "(333, 315, 108)\n",
            "(335, 268, 201)\n",
            "(337, 288, 175)\n",
            "(338, 240, 238)\n",
            "(338, 312, 130)\n",
            "(339, 336, 45)\n",
            "(340, 272, 204)\n",
            "(340, 300, 160)\n",
            "(340, 308, 144)\n",
            "(340, 336, 52)\n",
            "(345, 276, 207)\n",
            "(346, 330, 104)\n",
            "(348, 252, 240)\n",
            "(349, 299, 180)\n",
            "(350, 280, 210)\n",
            "(350, 336, 98)\n",
            "(351, 324, 135)\n",
            "(353, 272, 225)\n",
            "(355, 284, 213)\n",
            "(356, 320, 156)\n",
            "(357, 315, 168)\n",
            "(360, 288, 216)\n",
            "(362, 360, 38)\n",
            "(364, 336, 140)\n",
            "(365, 275, 240)\n",
            "(365, 292, 219)\n",
            "(365, 357, 76)\n",
            "(365, 364, 27)\n",
            "(366, 360, 66)\n",
            "(369, 360, 81)\n",
            "(370, 296, 222)\n",
            "(370, 306, 208)\n",
            "(370, 350, 120)\n",
            "(370, 352, 114)\n",
            "(371, 315, 196)\n",
            "(373, 275, 252)\n",
            "(374, 330, 176)\n",
            "(375, 300, 225)\n",
            "(375, 351, 132)\n",
            "(375, 360, 105)\n",
            "(377, 273, 260)\n",
            "(377, 345, 152)\n",
            "(377, 348, 145)\n",
            "(377, 352, 135)\n",
            "(380, 304, 228)\n",
            "(385, 308, 231)\n",
            "(386, 336, 190)\n",
            "(388, 288, 260)\n",
            "(389, 340, 189)\n",
            "(390, 312, 234)\n",
            "(390, 336, 198)\n",
            "(390, 360, 150)\n",
            "(390, 378, 96)\n",
            "(391, 345, 184)\n",
            "(394, 390, 56)\n",
            "(395, 316, 237)\n",
            "(397, 325, 228)\n",
            "(400, 320, 240)\n",
            "(400, 384, 112)\n",
            "(401, 399, 40)\n",
            "(403, 372, 155)\n",
            "(404, 396, 80)\n",
            "(405, 324, 243)\n",
            "(406, 294, 280)\n",
            "(407, 385, 132)\n",
            "(408, 360, 192)\n",
            "(409, 391, 120)\n",
            "(410, 312, 266)\n",
            "(410, 328, 246)\n",
            "(410, 374, 168)\n",
            "(410, 400, 90)\n",
            "(411, 315, 264)\n",
            "(415, 332, 249)\n",
            "(416, 384, 160)\n",
            "(420, 336, 252)\n",
            "(421, 420, 29)\n",
            "(424, 360, 224)\n",
            "(425, 304, 297)\n",
            "(425, 340, 255)\n",
            "(425, 375, 200)\n",
            "(425, 385, 180)\n",
            "(425, 408, 119)\n",
            "(425, 416, 87)\n",
            "(425, 420, 65)\n",
            "(427, 420, 77)\n",
            "(429, 396, 165)\n",
            "(430, 344, 258)\n",
            "(433, 408, 145)\n",
            "(435, 315, 300)\n",
            "(435, 348, 261)\n",
            "(435, 429, 72)\n",
            "(435, 432, 51)\n",
            "(436, 364, 240)\n",
            "(438, 330, 288)\n",
            "(440, 352, 264)\n",
            "(442, 342, 280)\n",
            "(442, 390, 208)\n",
            "(442, 408, 170)\n",
            "(442, 440, 42)\n",
            "(444, 420, 144)\n",
            "(445, 356, 267)\n",
            "(445, 396, 203)\n",
            "(445, 400, 195)\n",
            "(445, 437, 84)\n",
            "(447, 420, 153)\n",
            "(449, 351, 280)\n",
            "(450, 360, 270)\n",
            "(450, 432, 126)\n",
            "(451, 440, 99)\n",
            "(452, 448, 60)\n",
            "(455, 364, 273)\n",
            "(455, 392, 231)\n",
            "(455, 420, 175)\n",
            "(455, 441, 112)\n",
            "(457, 425, 168)\n",
            "(458, 442, 120)\n",
            "(459, 405, 216)\n",
            "(460, 368, 276)\n",
            "(461, 380, 261)\n",
            "(464, 336, 320)\n",
            "(465, 372, 279)\n",
            "(466, 416, 210)\n",
            "(468, 432, 180)\n",
            "(470, 376, 282)\n",
            "(471, 396, 255)\n",
            "(475, 380, 285)\n",
            "(475, 456, 133)\n",
            "(476, 420, 224)\n",
            "(477, 405, 252)\n",
            "(480, 384, 288)\n",
            "(481, 360, 319)\n",
            "(481, 444, 185)\n",
            "(481, 455, 156)\n",
            "(481, 480, 31)\n",
            "(482, 418, 240)\n",
            "(485, 360, 325)\n",
            "(485, 388, 291)\n",
            "(485, 476, 93)\n",
            "(485, 483, 44)\n",
            "(488, 480, 88)\n",
            "(490, 392, 294)\n",
            "(492, 480, 108)\n",
            "(493, 357, 340)\n",
            "(493, 435, 232)\n",
            "(493, 468, 155)\n",
            "(493, 475, 132)\n",
            "(494, 456, 190)\n",
            "(495, 396, 297)\n"
          ],
          "name": "stdout"
        }
      ]
    },
    {
      "cell_type": "markdown",
      "metadata": {
        "id": "KN5jqyti9vPz"
      },
      "source": [
        "Or, we could have used a generator expression here."
      ]
    },
    {
      "cell_type": "code",
      "metadata": {
        "id": "8YeKiu3y9mq2"
      },
      "source": [
        "triplet_generator = ((a,b,c) for a in range(500) for b in range(a) for c in range(b) if a*a == b*b +c*c)"
      ],
      "execution_count": null,
      "outputs": []
    },
    {
      "cell_type": "code",
      "metadata": {
        "id": "-JyOhV_A-aeS",
        "colab": {
          "base_uri": "https://localhost:8080/"
        },
        "outputId": "c5f64e09-ed8c-4b8e-e0ee-6cf36b06e876"
      },
      "source": [
        "for x in triplet_generator:\n",
        "  print(x)"
      ],
      "execution_count": null,
      "outputs": [
        {
          "output_type": "stream",
          "text": [
            "(5, 4, 3)\n",
            "(10, 8, 6)\n",
            "(13, 12, 5)\n",
            "(15, 12, 9)\n",
            "(17, 15, 8)\n",
            "(20, 16, 12)\n",
            "(25, 20, 15)\n",
            "(25, 24, 7)\n",
            "(26, 24, 10)\n",
            "(29, 21, 20)\n",
            "(30, 24, 18)\n",
            "(34, 30, 16)\n",
            "(35, 28, 21)\n",
            "(37, 35, 12)\n",
            "(39, 36, 15)\n",
            "(40, 32, 24)\n",
            "(41, 40, 9)\n",
            "(45, 36, 27)\n",
            "(50, 40, 30)\n",
            "(50, 48, 14)\n",
            "(51, 45, 24)\n",
            "(52, 48, 20)\n",
            "(53, 45, 28)\n",
            "(55, 44, 33)\n",
            "(58, 42, 40)\n",
            "(60, 48, 36)\n",
            "(61, 60, 11)\n",
            "(65, 52, 39)\n",
            "(65, 56, 33)\n",
            "(65, 60, 25)\n",
            "(65, 63, 16)\n",
            "(68, 60, 32)\n",
            "(70, 56, 42)\n",
            "(73, 55, 48)\n",
            "(74, 70, 24)\n",
            "(75, 60, 45)\n",
            "(75, 72, 21)\n",
            "(78, 72, 30)\n",
            "(80, 64, 48)\n",
            "(82, 80, 18)\n",
            "(85, 68, 51)\n",
            "(85, 75, 40)\n",
            "(85, 77, 36)\n",
            "(85, 84, 13)\n",
            "(87, 63, 60)\n",
            "(89, 80, 39)\n",
            "(90, 72, 54)\n",
            "(91, 84, 35)\n",
            "(95, 76, 57)\n",
            "(97, 72, 65)\n",
            "(100, 80, 60)\n",
            "(100, 96, 28)\n",
            "(101, 99, 20)\n",
            "(102, 90, 48)\n",
            "(104, 96, 40)\n",
            "(105, 84, 63)\n",
            "(106, 90, 56)\n",
            "(109, 91, 60)\n",
            "(110, 88, 66)\n",
            "(111, 105, 36)\n",
            "(113, 112, 15)\n",
            "(115, 92, 69)\n",
            "(116, 84, 80)\n",
            "(117, 108, 45)\n",
            "(119, 105, 56)\n",
            "(120, 96, 72)\n",
            "(122, 120, 22)\n",
            "(123, 120, 27)\n",
            "(125, 100, 75)\n",
            "(125, 117, 44)\n",
            "(125, 120, 35)\n",
            "(130, 104, 78)\n",
            "(130, 112, 66)\n",
            "(130, 120, 50)\n",
            "(130, 126, 32)\n",
            "(135, 108, 81)\n",
            "(136, 120, 64)\n",
            "(137, 105, 88)\n",
            "(140, 112, 84)\n",
            "(143, 132, 55)\n",
            "(145, 105, 100)\n",
            "(145, 116, 87)\n",
            "(145, 143, 24)\n",
            "(145, 144, 17)\n",
            "(146, 110, 96)\n",
            "(148, 140, 48)\n",
            "(149, 140, 51)\n",
            "(150, 120, 90)\n",
            "(150, 144, 42)\n",
            "(153, 135, 72)\n",
            "(155, 124, 93)\n",
            "(156, 144, 60)\n",
            "(157, 132, 85)\n",
            "(159, 135, 84)\n",
            "(160, 128, 96)\n",
            "(164, 160, 36)\n",
            "(165, 132, 99)\n",
            "(169, 120, 119)\n",
            "(169, 156, 65)\n",
            "(170, 136, 102)\n",
            "(170, 150, 80)\n",
            "(170, 154, 72)\n",
            "(170, 168, 26)\n",
            "(173, 165, 52)\n",
            "(174, 126, 120)\n",
            "(175, 140, 105)\n",
            "(175, 168, 49)\n",
            "(178, 160, 78)\n",
            "(180, 144, 108)\n",
            "(181, 180, 19)\n",
            "(182, 168, 70)\n",
            "(183, 180, 33)\n",
            "(185, 148, 111)\n",
            "(185, 153, 104)\n",
            "(185, 175, 60)\n",
            "(185, 176, 57)\n",
            "(187, 165, 88)\n",
            "(190, 152, 114)\n",
            "(193, 168, 95)\n",
            "(194, 144, 130)\n",
            "(195, 156, 117)\n",
            "(195, 168, 99)\n",
            "(195, 180, 75)\n",
            "(195, 189, 48)\n",
            "(197, 195, 28)\n",
            "(200, 160, 120)\n",
            "(200, 192, 56)\n",
            "(202, 198, 40)\n",
            "(203, 147, 140)\n",
            "(204, 180, 96)\n",
            "(205, 156, 133)\n",
            "(205, 164, 123)\n",
            "(205, 187, 84)\n",
            "(205, 200, 45)\n",
            "(208, 192, 80)\n",
            "(210, 168, 126)\n",
            "(212, 180, 112)\n",
            "(215, 172, 129)\n",
            "(218, 182, 120)\n",
            "(219, 165, 144)\n",
            "(220, 176, 132)\n",
            "(221, 171, 140)\n",
            "(221, 195, 104)\n",
            "(221, 204, 85)\n",
            "(221, 220, 21)\n",
            "(222, 210, 72)\n",
            "(225, 180, 135)\n",
            "(225, 216, 63)\n",
            "(226, 224, 30)\n",
            "(229, 221, 60)\n",
            "(230, 184, 138)\n",
            "(232, 168, 160)\n",
            "(233, 208, 105)\n",
            "(234, 216, 90)\n",
            "(235, 188, 141)\n",
            "(238, 210, 112)\n",
            "(240, 192, 144)\n",
            "(241, 209, 120)\n",
            "(244, 240, 44)\n",
            "(245, 196, 147)\n",
            "(246, 240, 54)\n",
            "(247, 228, 95)\n",
            "(250, 200, 150)\n",
            "(250, 234, 88)\n",
            "(250, 240, 70)\n",
            "(255, 204, 153)\n",
            "(255, 225, 120)\n",
            "(255, 231, 108)\n",
            "(255, 252, 39)\n",
            "(257, 255, 32)\n",
            "(259, 245, 84)\n",
            "(260, 208, 156)\n",
            "(260, 224, 132)\n",
            "(260, 240, 100)\n",
            "(260, 252, 64)\n",
            "(261, 189, 180)\n",
            "(265, 212, 159)\n",
            "(265, 225, 140)\n",
            "(265, 247, 96)\n",
            "(265, 264, 23)\n",
            "(267, 240, 117)\n",
            "(269, 260, 69)\n",
            "(270, 216, 162)\n",
            "(272, 240, 128)\n",
            "(273, 252, 105)\n",
            "(274, 210, 176)\n",
            "(275, 220, 165)\n",
            "(275, 264, 77)\n",
            "(277, 252, 115)\n",
            "(280, 224, 168)\n",
            "(281, 231, 160)\n",
            "(285, 228, 171)\n",
            "(286, 264, 110)\n",
            "(287, 280, 63)\n",
            "(289, 240, 161)\n",
            "(289, 255, 136)\n",
            "(290, 210, 200)\n",
            "(290, 232, 174)\n",
            "(290, 286, 48)\n",
            "(290, 288, 34)\n",
            "(291, 216, 195)\n",
            "(292, 220, 192)\n",
            "(293, 285, 68)\n",
            "(295, 236, 177)\n",
            "(296, 280, 96)\n",
            "(298, 280, 102)\n",
            "(299, 276, 115)\n",
            "(300, 240, 180)\n",
            "(300, 288, 84)\n",
            "(303, 297, 60)\n",
            "(305, 224, 207)\n",
            "(305, 244, 183)\n",
            "(305, 273, 136)\n",
            "(305, 300, 55)\n",
            "(306, 270, 144)\n",
            "(310, 248, 186)\n",
            "(312, 288, 120)\n",
            "(313, 312, 25)\n",
            "(314, 264, 170)\n",
            "(315, 252, 189)\n",
            "(317, 308, 75)\n",
            "(318, 270, 168)\n",
            "(319, 231, 220)\n",
            "(320, 256, 192)\n",
            "(323, 285, 152)\n",
            "(325, 253, 204)\n",
            "(325, 260, 195)\n",
            "(325, 280, 165)\n",
            "(325, 300, 125)\n",
            "(325, 312, 91)\n",
            "(325, 315, 80)\n",
            "(325, 323, 36)\n",
            "(327, 273, 180)\n",
            "(328, 320, 72)\n",
            "(330, 264, 198)\n",
            "(333, 315, 108)\n",
            "(335, 268, 201)\n",
            "(337, 288, 175)\n",
            "(338, 240, 238)\n",
            "(338, 312, 130)\n",
            "(339, 336, 45)\n",
            "(340, 272, 204)\n",
            "(340, 300, 160)\n",
            "(340, 308, 144)\n",
            "(340, 336, 52)\n",
            "(345, 276, 207)\n",
            "(346, 330, 104)\n",
            "(348, 252, 240)\n",
            "(349, 299, 180)\n",
            "(350, 280, 210)\n",
            "(350, 336, 98)\n",
            "(351, 324, 135)\n",
            "(353, 272, 225)\n",
            "(355, 284, 213)\n",
            "(356, 320, 156)\n",
            "(357, 315, 168)\n",
            "(360, 288, 216)\n",
            "(362, 360, 38)\n",
            "(364, 336, 140)\n",
            "(365, 275, 240)\n",
            "(365, 292, 219)\n",
            "(365, 357, 76)\n",
            "(365, 364, 27)\n",
            "(366, 360, 66)\n",
            "(369, 360, 81)\n",
            "(370, 296, 222)\n",
            "(370, 306, 208)\n",
            "(370, 350, 120)\n",
            "(370, 352, 114)\n",
            "(371, 315, 196)\n",
            "(373, 275, 252)\n",
            "(374, 330, 176)\n",
            "(375, 300, 225)\n",
            "(375, 351, 132)\n",
            "(375, 360, 105)\n",
            "(377, 273, 260)\n",
            "(377, 345, 152)\n",
            "(377, 348, 145)\n",
            "(377, 352, 135)\n",
            "(380, 304, 228)\n",
            "(385, 308, 231)\n",
            "(386, 336, 190)\n",
            "(388, 288, 260)\n",
            "(389, 340, 189)\n",
            "(390, 312, 234)\n",
            "(390, 336, 198)\n",
            "(390, 360, 150)\n",
            "(390, 378, 96)\n",
            "(391, 345, 184)\n",
            "(394, 390, 56)\n",
            "(395, 316, 237)\n",
            "(397, 325, 228)\n",
            "(400, 320, 240)\n",
            "(400, 384, 112)\n",
            "(401, 399, 40)\n",
            "(403, 372, 155)\n",
            "(404, 396, 80)\n",
            "(405, 324, 243)\n",
            "(406, 294, 280)\n",
            "(407, 385, 132)\n",
            "(408, 360, 192)\n",
            "(409, 391, 120)\n",
            "(410, 312, 266)\n",
            "(410, 328, 246)\n",
            "(410, 374, 168)\n",
            "(410, 400, 90)\n",
            "(411, 315, 264)\n",
            "(415, 332, 249)\n",
            "(416, 384, 160)\n",
            "(420, 336, 252)\n",
            "(421, 420, 29)\n",
            "(424, 360, 224)\n",
            "(425, 304, 297)\n",
            "(425, 340, 255)\n",
            "(425, 375, 200)\n",
            "(425, 385, 180)\n",
            "(425, 408, 119)\n",
            "(425, 416, 87)\n",
            "(425, 420, 65)\n",
            "(427, 420, 77)\n",
            "(429, 396, 165)\n",
            "(430, 344, 258)\n",
            "(433, 408, 145)\n",
            "(435, 315, 300)\n",
            "(435, 348, 261)\n",
            "(435, 429, 72)\n",
            "(435, 432, 51)\n",
            "(436, 364, 240)\n",
            "(438, 330, 288)\n",
            "(440, 352, 264)\n",
            "(442, 342, 280)\n",
            "(442, 390, 208)\n",
            "(442, 408, 170)\n",
            "(442, 440, 42)\n",
            "(444, 420, 144)\n",
            "(445, 356, 267)\n",
            "(445, 396, 203)\n",
            "(445, 400, 195)\n",
            "(445, 437, 84)\n",
            "(447, 420, 153)\n",
            "(449, 351, 280)\n",
            "(450, 360, 270)\n",
            "(450, 432, 126)\n",
            "(451, 440, 99)\n",
            "(452, 448, 60)\n",
            "(455, 364, 273)\n",
            "(455, 392, 231)\n",
            "(455, 420, 175)\n",
            "(455, 441, 112)\n",
            "(457, 425, 168)\n",
            "(458, 442, 120)\n",
            "(459, 405, 216)\n",
            "(460, 368, 276)\n",
            "(461, 380, 261)\n",
            "(464, 336, 320)\n",
            "(465, 372, 279)\n",
            "(466, 416, 210)\n",
            "(468, 432, 180)\n",
            "(470, 376, 282)\n",
            "(471, 396, 255)\n",
            "(475, 380, 285)\n",
            "(475, 456, 133)\n",
            "(476, 420, 224)\n",
            "(477, 405, 252)\n",
            "(480, 384, 288)\n",
            "(481, 360, 319)\n",
            "(481, 444, 185)\n",
            "(481, 455, 156)\n",
            "(481, 480, 31)\n",
            "(482, 418, 240)\n",
            "(485, 360, 325)\n",
            "(485, 388, 291)\n",
            "(485, 476, 93)\n",
            "(485, 483, 44)\n",
            "(488, 480, 88)\n",
            "(490, 392, 294)\n",
            "(492, 480, 108)\n",
            "(493, 357, 340)\n",
            "(493, 435, 232)\n",
            "(493, 468, 155)\n",
            "(493, 475, 132)\n",
            "(494, 456, 190)\n",
            "(495, 396, 297)\n"
          ],
          "name": "stdout"
        }
      ]
    },
    {
      "cell_type": "markdown",
      "metadata": {
        "id": "b8v9_Jhj-tup"
      },
      "source": [
        "Iterators and Generators provide us a way to reduce the memory footprint in python.\n",
        "\n",
        "How do we decide which one to choose?\n",
        "\n",
        "Whenever, such a dilemma is encountered, one can think in terms of functionality vs readability. Generally, \n",
        "\n",
        "Functionality wise : Iterators > Generators > Generator Expressions\n",
        "Readability wise : Iterators < Generators < Generator Expressions"
      ]
    },
    {
      "cell_type": "markdown",
      "metadata": {
        "id": "hyip-Nt-jAWu"
      },
      "source": [
        "#Chapter 5: How and Why to use f strings in Python3? "
      ]
    },
    {
      "cell_type": "markdown",
      "metadata": {
        "id": "db1_OBztj4u7"
      },
      "source": [
        "## 3 common ways of printing"
      ]
    },
    {
      "cell_type": "markdown",
      "metadata": {
        "id": "OoJZvw1xj_7a"
      },
      "source": [
        "### 1. Concatenate:\n",
        "A naive and clumsy way is to simply use '+' for concatenation in the print function. Also, we need to convert our numeric variables into string due to which the code readability suffers too.\n"
      ]
    },
    {
      "cell_type": "code",
      "metadata": {
        "id": "EtaNEbkF-ikF",
        "colab": {
          "base_uri": "https://localhost:8080/"
        },
        "outputId": "98ff5474-3a6b-4441-b7c5-699be9b357bb"
      },
      "source": [
        "name = \"Andy\"\n",
        "age = 30 \n",
        "print(\"I am \"+ name + \". I am \" + str(age) + \" years old.\")"
      ],
      "execution_count": null,
      "outputs": [
        {
          "output_type": "stream",
          "text": [
            "I am Andy. I am 30 years old.\n"
          ],
          "name": "stdout"
        }
      ]
    },
    {
      "cell_type": "markdown",
      "metadata": {
        "id": "N-3QHwNnlqQD"
      },
      "source": [
        "### 2. % format:\n",
        "The second option is to use % formatting. But, it also has problems. For one, it is not readable. You would need to look at the first %s and try to find the corresponding variable in the list at the end. And imagine if you have a long list of variables that you may want to print."
      ]
    },
    {
      "cell_type": "code",
      "metadata": {
        "id": "U8pJUd45lcU9",
        "colab": {
          "base_uri": "https://localhost:8080/"
        },
        "outputId": "52b88aa0-2104-4672-cba2-756116fd5828"
      },
      "source": [
        "print(\"I am %s. I am %s years old\" % (name, age))"
      ],
      "execution_count": null,
      "outputs": [
        {
          "output_type": "stream",
          "text": [
            "I am Andy. I am 30 years old\n"
          ],
          "name": "stdout"
        }
      ]
    },
    {
      "cell_type": "markdown",
      "metadata": {
        "id": "--D0M7_Om7SU"
      },
      "source": [
        "### 3. str.format(): \n",
        "Next comes the way that has been used in most python 3 codes and is probably the standard of printing in python. Using str.format()"
      ]
    },
    {
      "cell_type": "code",
      "metadata": {
        "id": "UwfZ_0q2mp8l",
        "colab": {
          "base_uri": "https://localhost:8080/"
        },
        "outputId": "43027bb1-3326-4cb5-a72b-c15302057591"
      },
      "source": [
        "print(\"I am {}. I am {} years old\".format(name,age))"
      ],
      "execution_count": null,
      "outputs": [
        {
          "output_type": "stream",
          "text": [
            "I am Andy. I am 30 years old\n"
          ],
          "name": "stdout"
        }
      ]
    },
    {
      "cell_type": "markdown",
      "metadata": {
        "id": "-ogIpsvtqitN"
      },
      "source": [
        "Or, using dictionaries with str.format()"
      ]
    },
    {
      "cell_type": "code",
      "metadata": {
        "id": "lRAWqXgJqckt",
        "colab": {
          "base_uri": "https://localhost:8080/"
        },
        "outputId": "daf2d5a1-64a9-4254-a182-09f87aef6300"
      },
      "source": [
        "data = {'name':'Andy','age': 30}\n",
        "print(\"I am {name}. I am {age} years old\".format(**data))"
      ],
      "execution_count": null,
      "outputs": [
        {
          "output_type": "stream",
          "text": [
            "I am Andy. I am 30 years old\n"
          ],
          "name": "stdout"
        }
      ]
    },
    {
      "cell_type": "markdown",
      "metadata": {
        "id": "niEMMtmZs9hy"
      },
      "source": [
        "## The f strings way "
      ]
    },
    {
      "cell_type": "code",
      "metadata": {
        "id": "k5OqZT5HrN0p",
        "colab": {
          "base_uri": "https://localhost:8080/"
        },
        "outputId": "d7b9b2df-d0d0-4cd9-d875-1fabaaed10bb"
      },
      "source": [
        "print(f\"I am {name}. I am {age} years old.\")"
      ],
      "execution_count": null,
      "outputs": [
        {
          "output_type": "stream",
          "text": [
            "I am Andy. I am 30 years old.\n"
          ],
          "name": "stdout"
        }
      ]
    },
    {
      "cell_type": "markdown",
      "metadata": {
        "id": "ShvHBr6LuLBo"
      },
      "source": [
        "We just have to append 'f' at the start of the string and use {} to include our variable name, and we get the required results. An added functionality that f string provides is that we can put expressions in the {} brackets."
      ]
    },
    {
      "cell_type": "code",
      "metadata": {
        "id": "uah4Ti9Wtxqb",
        "colab": {
          "base_uri": "https://localhost:8080/"
        },
        "outputId": "f42ceb6c-22a8-4d90-926b-8831f2d569ad"
      },
      "source": [
        "# for example\n",
        "num1 = 4\n",
        "num2 = 5\n",
        "print(f\"The sum of {num1} and {num2} is {num1+num2}\")"
      ],
      "execution_count": null,
      "outputs": [
        {
          "output_type": "stream",
          "text": [
            "The sum of 4 and 5 is 9\n"
          ],
          "name": "stdout"
        }
      ]
    },
    {
      "cell_type": "markdown",
      "metadata": {
        "id": "IwolV_-_y7Ds"
      },
      "source": [
        "This is quite useful as one can use an sort of expressions inside these brackets. **The expression can contain dictionaries or functions.**"
      ]
    },
    {
      "cell_type": "code",
      "metadata": {
        "id": "f9D_maf0y2NW",
        "colab": {
          "base_uri": "https://localhost:8080/"
        },
        "outputId": "0aea882d-d96b-4238-fffa-10cf8ffeb90b"
      },
      "source": [
        "# for example\n",
        "def totalFruits(apples,oranges):\n",
        "  return apples+oranges\n",
        "\n",
        "data = {'name':'Andy', 'age':30}\n",
        "\n",
        "apples = 20\n",
        "oranges = 30\n",
        "\n",
        "print(f\"{data['name']} aged {data['age']} has {totalFruits(apples,oranges)} fruits.\")"
      ],
      "execution_count": null,
      "outputs": [
        {
          "output_type": "stream",
          "text": [
            "Andy aged 30 has 50 fruits.\n"
          ],
          "name": "stdout"
        }
      ]
    },
    {
      "cell_type": "markdown",
      "metadata": {
        "id": "3XtMN7R-10SO"
      },
      "source": [
        "Also, you can use ''' to use **multiline strings.**"
      ]
    },
    {
      "cell_type": "code",
      "metadata": {
        "id": "mwhUrLaH0qIz",
        "colab": {
          "base_uri": "https://localhost:8080/"
        },
        "outputId": "f61672ba-59b6-4f27-c715-e04b0cdaf24e"
      },
      "source": [
        "num1 = 4\n",
        "num2 = 5\n",
        "print(f'''The sum of\n",
        "{num1} and\n",
        "{num2} is \n",
        "{num1+num2}.''')"
      ],
      "execution_count": null,
      "outputs": [
        {
          "output_type": "stream",
          "text": [
            "The sum of\n",
            "4 and\n",
            "5 is \n",
            "9.\n"
          ],
          "name": "stdout"
        }
      ]
    },
    {
      "cell_type": "markdown",
      "metadata": {
        "id": "4luFE_1c3eiV"
      },
      "source": [
        "An everyday use case while formatting strings is to **format floats.** You can do that using fstring as follows:\n"
      ]
    },
    {
      "cell_type": "code",
      "metadata": {
        "id": "ZiCBWtJz2nh0",
        "colab": {
          "base_uri": "https://localhost:8080/"
        },
        "outputId": "d570d0b6-f8c4-4726-db42-8bb05587d4b0"
      },
      "source": [
        "numFloat = 10.23687\n",
        "print(f\"Printing Float with 2 decimals : {numFloat:.2f}\")"
      ],
      "execution_count": null,
      "outputs": [
        {
          "output_type": "stream",
          "text": [
            "Printing Float with 2 decimals : 10.24\n"
          ],
          "name": "stdout"
        }
      ]
    }
  ]
}